{
 "cells": [
  {
   "cell_type": "markdown",
   "metadata": {
    "toc": true
   },
   "source": [
    "<h1>Table of Contents<span class=\"tocSkip\"></span></h1>\n",
    "<div class=\"toc\"><ul class=\"toc-item\"><li><span><a href=\"#What-is-Python?\" data-toc-modified-id=\"What-is-Python?-1\"><span class=\"toc-item-num\">1&nbsp;&nbsp;</span>What is Python?</a></span></li><li><span><a href=\"#Why-Python?\" data-toc-modified-id=\"Why-Python?-2\"><span class=\"toc-item-num\">2&nbsp;&nbsp;</span>Why Python?</a></span><ul class=\"toc-item\"><li><span><a href=\"#Easyness\" data-toc-modified-id=\"Easyness-2.1\"><span class=\"toc-item-num\">2.1&nbsp;&nbsp;</span>Easyness</a></span><ul class=\"toc-item\"><li><span><a href=\"#Example:-Date-Time-Program\" data-toc-modified-id=\"Example:-Date-Time-Program-2.1.1\"><span class=\"toc-item-num\">2.1.1&nbsp;&nbsp;</span>Example: Date-Time Program</a></span></li></ul></li><li><span><a href=\"#Flexibility\" data-toc-modified-id=\"Flexibility-2.2\"><span class=\"toc-item-num\">2.2&nbsp;&nbsp;</span>Flexibility</a></span></li><li><span><a href=\"#Popularity\" data-toc-modified-id=\"Popularity-2.3\"><span class=\"toc-item-num\">2.3&nbsp;&nbsp;</span>Popularity</a></span></li><li><span><a href=\"#Community\" data-toc-modified-id=\"Community-2.4\"><span class=\"toc-item-num\">2.4&nbsp;&nbsp;</span>Community</a></span></li></ul></li><li><span><a href=\"#Python-Getting-Started\" data-toc-modified-id=\"Python-Getting-Started-3\"><span class=\"toc-item-num\">3&nbsp;&nbsp;</span>Python Getting Started</a></span><ul class=\"toc-item\"><li><span><a href=\"#Python-2.7-vs-Python-3.6\" data-toc-modified-id=\"Python-2.7-vs-Python-3.6-3.1\"><span class=\"toc-item-num\">3.1&nbsp;&nbsp;</span>Python 2.7 vs Python 3.6</a></span></li></ul></li><li><span><a href=\"#Python-Installation.\" data-toc-modified-id=\"Python-Installation.-4\"><span class=\"toc-item-num\">4&nbsp;&nbsp;</span>Python Installation.</a></span></li><li><span><a href=\"#Python-Simple-Calculator.\" data-toc-modified-id=\"Python-Simple-Calculator.-5\"><span class=\"toc-item-num\">5&nbsp;&nbsp;</span>Python Simple Calculator.</a></span></li><li><span><a href=\"#Python-text-editors-and-IDEs.\" data-toc-modified-id=\"Python-text-editors-and-IDEs.-6\"><span class=\"toc-item-num\">6&nbsp;&nbsp;</span>Python text editors and IDEs.</a></span></li><li><span><a href=\"#Python-primitive-data-types.\" data-toc-modified-id=\"Python-primitive-data-types.-7\"><span class=\"toc-item-num\">7&nbsp;&nbsp;</span>Python primitive data types.</a></span></li><li><span><a href=\"#References-and-Useful-Resources.\" data-toc-modified-id=\"References-and-Useful-Resources.-8\"><span class=\"toc-item-num\">8&nbsp;&nbsp;</span>References and Useful Resources.</a></span></li></ul></div>"
   ]
  },
  {
   "cell_type": "markdown",
   "metadata": {},
   "source": [
    "## What is Python?"
   ]
  },
  {
   "cell_type": "markdown",
   "metadata": {},
   "source": [
    "Python is an interpreted, high-level, programming language. It contains many high level built-in functions and data structures. Its name comes from **Monty Python** British comedy group. Python emphasizes on code readability and rapid development. There are many features in the language elaborating this characteristics such as **dynamic typing, indentation, useful keywords naming**. These terms will be clear in the upcoming sections of this document."
   ]
  },
  {
   "cell_type": "markdown",
   "metadata": {},
   "source": [
    "## Why Python?"
   ]
  },
  {
   "cell_type": "markdown",
   "metadata": {},
   "source": [
    "There are many competitive programming languages that are leading the commercial market nowadays. What is so special about python such that I will , as a engineer, developer or even a user, choose python for my next project? Well, this is a fair enough question to ask. The following points will show Python potential and proficiency."
   ]
  },
  {
   "cell_type": "markdown",
   "metadata": {},
   "source": [
    "### Easyness"
   ]
  },
  {
   "cell_type": "markdown",
   "metadata": {},
   "source": [
    "Python, as a rumor, was intended to target kids to make the concept of programming easy for them. However, it scales up such that Nasa is using it in its projects! Python syntax is interestingly easy to learn and understand. The code is, probably, the most readable among all its counterparts. The following example elaborates that. It is a program to show the current day, time."
   ]
  },
  {
   "cell_type": "markdown",
   "metadata": {},
   "source": [
    "#### Example: Date-Time Program"
   ]
  },
  {
   "cell_type": "code",
   "execution_count": 32,
   "metadata": {},
   "outputs": [
    {
     "name": "stdout",
     "output_type": "stream",
     "text": [
      "date of today is: \n",
      "3/18/2018 22:55:22\n"
     ]
    }
   ],
   "source": [
    "from datetime import datetime\n",
    "\n",
    "now = datetime.now()\n",
    "\n",
    "mm = str(now.month)\n",
    "\n",
    "dd = str(now.day)\n",
    "\n",
    "yyyy = str(now.year)\n",
    "\n",
    "hour = str(now.hour)\n",
    "\n",
    "mi = str(now.minute)\n",
    "\n",
    "ss = str(now.second)\n",
    "\n",
    "print('date of today is: ')\n",
    "print (mm + \"/\" + dd + \"/\" + yyyy \n",
    "       + \" \" + hour + \":\" + mi + \":\" + ss)"
   ]
  },
  {
   "cell_type": "markdown",
   "metadata": {},
   "source": [
    "### Flexibility"
   ]
  },
  {
   "cell_type": "markdown",
   "metadata": {},
   "source": [
    "- **Python Characteristics:**\n",
    "Python scripts are dynamically typed. Meaning that, the programmer needs not to explicitly define the type of the variable to be used. This is a great increase in readability and decrease of time cost in programming. Adding to that, Python provides the programmer many methods to solve a particular problem increasing programmers to develop programming flavors. Moreover, Python supports Object-Oriented Programming \"OOP\". This is a modern concept applied in the leading programming languages such as C++, C#, Java and, of course, Python. It is used to modularize and encapsulate data types and their specific operations. It will be extrapolated later in this tutorial documents."
   ]
  },
  {
   "cell_type": "markdown",
   "metadata": {},
   "source": [
    "- **Portability:** Code written in C will produce .exe file when compiled. That file will execute only on a windows machines. Same thin is happening for mac machines. Nevertheless, Java breaks this rule by its smart idea: Java Virtual Machine. Using this feature, you can write Java program and run it on Windows or Mac machine using this feature. Python follows the same rule. Python scripts can be running on any platform."
   ]
  },
  {
   "cell_type": "markdown",
   "metadata": {},
   "source": [
    "- **Python frameworks:**\n",
    "Python frameworks are python scripts and modules helping the programmer to develop their applications on many platforms. The following points are just examples of _what you can do with python_:\n",
    "    - Web Development<br>\n",
    "        There are many libraries and frameworks letting you to develop web applications using your favourite programming language: *Python*! Such frameworks are Django, Flusk, Pyramids. \n",
    "    - Data Analysis<br>\n",
    "    Data analysis is a giant part of python frameworks and libraries. Day to day, data is becoming the new gold of this century. Python is a leading software in this field. Many so popular and robust libraries are written in Python such as Numpy, Pandas, Sciypy and the library of Data Visualization Matplotlib. We may going a little bit deeper in this tutorial as we are going to study Python as a good alternative for Matlab.\n",
    "    - Machine Learning<br>\n",
    "    Machine learning is the formal name given to the field of extracting useful information out of the data. This field is well-known for its huge computation and time-machinery expensiveness. It also requires the programming to know, in-deep, many mathematical concepts such as probability, calculus and linear algebra. Python has many frame works utilizing this work for the programmer. The programmer needs not to be fully knowledgeable about such complicated stuff. These frameworks are NLTK for natural language processing, Tensorflow for building Artificial Neural Networks, and Scikit-learn for machine learning algorithms. \n",
    "    - Computer Vision.<br> OpenCV with Python.\n",
    "    Computer Vision, in simple words, interested in image manipulation, detection and recognition. All these fancy words are given this neat name, Image Processing. Many interesting areas are falling inside this field such as face detection and face recognition. These are part of Computer Vision which connects all these components altogether and they all falls under the machine learning and AI umbrella. Python has nice module implementations regarding this topics. OpenCV is an excellent example.\n",
    "    - GUI Development.<br>\n",
    "    Python, just like any other programming language, provides libraries to write GUI applications. GUI stands for Graphical User Interface which is the window you see when you start any desktop application. pyqt, Tkinter and Jython are examples of such libraries. There is also a _ Game Development _ python library known as pygame that can run on Android system as well."
   ]
  },
  {
   "cell_type": "markdown",
   "metadata": {},
   "source": [
    "### Popularity"
   ]
  },
  {
   "cell_type": "markdown",
   "metadata": {},
   "source": [
    "Python is widely used in many applications that are maintained and developed using the giant computing and software companies in the world such as Google, Facebook, Amazon etc. Youtube, Google, Quora, Instagram, Spotify, Reddit, Pinterest, and Prezi websites are completely or partially powered by Python. Python is the 4th Most-Used Language at Github \"Github is a coding projects websites where programmers use to save their codes online\". If Python was useless or was not a cutting-edge technology providing integrated features, these large companies will no rely on it to build their websites."
   ]
  },
  {
   "cell_type": "markdown",
   "metadata": {},
   "source": [
    "### Community"
   ]
  },
  {
   "cell_type": "markdown",
   "metadata": {},
   "source": [
    "Python has a large community over the world. There is an annual conference for python developers called [PyCon](https://www.pycon.org/). The link:(https://www.pycon.org/).\n",
    "\n",
    "Python also has a great community support at stackoverflow.com. The website for programmers. It is the 5th largest community on the site according to[6]. You will not be misled. Moreover, any question you post on this site about python, it is the 3rd most likely to be answered when compared to other popular programming languages."
   ]
  },
  {
   "cell_type": "markdown",
   "metadata": {},
   "source": [
    "## Python Getting Started"
   ]
  },
  {
   "cell_type": "markdown",
   "metadata": {},
   "source": [
    "### Python 2.7 vs Python 3.6"
   ]
  },
  {
   "cell_type": "markdown",
   "metadata": {},
   "source": [
    "Python 2.7 and Python 3.6 are two main versions of Python. Python start a new software with different criteras after Python 2.7 version. There are numerous differences between the two versions summarized in [7]. We will be exposed to these differences when appropriate. For this tutorial, we will be using Python 3.6."
   ]
  },
  {
   "cell_type": "markdown",
   "metadata": {},
   "source": [
    "Starting with the first difference, Python ```print``` statement is changed from 2.7 to 3.x. in python 2.7, It was like the following:\n",
    "\n",
    "```print 'hello world'```\n",
    "\n",
    "However, in python 3.6 it changes to:\n",
    "\n",
    "```print('hello world')```\n"
   ]
  },
  {
   "cell_type": "code",
   "execution_count": 33,
   "metadata": {},
   "outputs": [
    {
     "name": "stdout",
     "output_type": "stream",
     "text": [
      "hello world\n"
     ]
    }
   ],
   "source": [
    "print('hello world')"
   ]
  },
  {
   "cell_type": "markdown",
   "metadata": {},
   "source": [
    "## Python Installation."
   ]
  },
  {
   "cell_type": "markdown",
   "metadata": {},
   "source": [
    "Python can be installed from their official website: https://www.python.org/downloads/.\n",
    "There will be two illuminating buttons at the header of the page for the two versions of python. You may choose Python 3.6 to download.\n",
    "\n",
    "After clicking this button, a compressed file will start downloading. Once it completes downloading, you can install it as usual."
   ]
  },
  {
   "cell_type": "markdown",
   "metadata": {},
   "source": [
    "## Python Simple Calculator."
   ]
  },
  {
   "cell_type": "markdown",
   "metadata": {},
   "source": [
    "To run python, open the command line software on you OS and type python. Now, you can write python scripts on the command line. I know that this is an ugly user interface. Nevertheless, we will have more fancy choices later. Try the following simple command to test language functionality: "
   ]
  },
  {
   "cell_type": "code",
   "execution_count": 34,
   "metadata": {},
   "outputs": [
    {
     "name": "stdout",
     "output_type": "stream",
     "text": [
      "Hello world\n"
     ]
    }
   ],
   "source": [
    "print ('Hello world')"
   ]
  },
  {
   "cell_type": "markdown",
   "metadata": {},
   "source": [
    "Here, we are going to perform simple calculations. These calculations may let you consider python as an alternative calculator of your OS one. Try it, It is amazing!"
   ]
  },
  {
   "cell_type": "markdown",
   "metadata": {},
   "source": [
    "**Tips**:\n",
    "\n",
    "- Python provides two methods of writing comments:\n",
    "\n",
    "```# This is a line comment```\n",
    "\n",
    "```''' This is block comment'''```\n",
    "\n",
    "- Unlike many popular programming languages, Python uses indentation rather than semi-colon. This will be explained later."
   ]
  },
  {
   "cell_type": "markdown",
   "metadata": {},
   "source": [
    "The following operators are used:\n",
    "-  ```*``` for multiplication.\n",
    "-  ```+``` for addition.\n",
    "-  ```-``` for subtraction.\n",
    "-  ```/``` for division.\n",
    "-  ```//``` for integer division.\n",
    "-  ```**``` for power.\n",
    "\n",
    "Note that in _Python 2.7_, ```/``` and ```//``` are both used for integer division. To save, the decimal part while performing division, one needs to put .0 on one of the operands like ```11/2.0```."
   ]
  },
  {
   "cell_type": "code",
   "execution_count": 35,
   "metadata": {},
   "outputs": [
    {
     "data": {
      "text/plain": [
       "'\\nThis is a block comment!\\n'"
      ]
     },
     "execution_count": 35,
     "metadata": {},
     "output_type": "execute_result"
    }
   ],
   "source": [
    "# this is a line comment\n",
    "'''\n",
    "This is a block comment!\n",
    "'''"
   ]
  },
  {
   "cell_type": "code",
   "execution_count": 36,
   "metadata": {},
   "outputs": [],
   "source": [
    "# Some Calculations:"
   ]
  },
  {
   "cell_type": "code",
   "execution_count": 37,
   "metadata": {},
   "outputs": [
    {
     "data": {
      "text/plain": [
       "5"
      ]
     },
     "execution_count": 37,
     "metadata": {},
     "output_type": "execute_result"
    }
   ],
   "source": [
    "10-5"
   ]
  },
  {
   "cell_type": "code",
   "execution_count": 38,
   "metadata": {},
   "outputs": [
    {
     "data": {
      "text/plain": [
       "15"
      ]
     },
     "execution_count": 38,
     "metadata": {},
     "output_type": "execute_result"
    }
   ],
   "source": [
    "10+5"
   ]
  },
  {
   "cell_type": "code",
   "execution_count": 39,
   "metadata": {},
   "outputs": [
    {
     "data": {
      "text/plain": [
       "-5"
      ]
     },
     "execution_count": 39,
     "metadata": {},
     "output_type": "execute_result"
    }
   ],
   "source": [
    "5-10"
   ]
  },
  {
   "cell_type": "code",
   "execution_count": 40,
   "metadata": {},
   "outputs": [
    {
     "data": {
      "text/plain": [
       "50"
      ]
     },
     "execution_count": 40,
     "metadata": {},
     "output_type": "execute_result"
    }
   ],
   "source": [
    "10*5"
   ]
  },
  {
   "cell_type": "code",
   "execution_count": 41,
   "metadata": {},
   "outputs": [
    {
     "data": {
      "text/plain": [
       "2.2"
      ]
     },
     "execution_count": 41,
     "metadata": {},
     "output_type": "execute_result"
    }
   ],
   "source": [
    "'''\n",
    "notice that / returns a real value \n",
    "while // returns an integer value where the decimal part is truncrated.\n",
    "'''\n",
    "11/5"
   ]
  },
  {
   "cell_type": "code",
   "execution_count": 42,
   "metadata": {},
   "outputs": [
    {
     "data": {
      "text/plain": [
       "2"
      ]
     },
     "execution_count": 42,
     "metadata": {},
     "output_type": "execute_result"
    }
   ],
   "source": [
    "11//5"
   ]
  },
  {
   "cell_type": "code",
   "execution_count": 43,
   "metadata": {},
   "outputs": [
    {
     "data": {
      "text/plain": [
       "8"
      ]
     },
     "execution_count": 43,
     "metadata": {},
     "output_type": "execute_result"
    }
   ],
   "source": [
    "2**3"
   ]
  },
  {
   "cell_type": "code",
   "execution_count": 44,
   "metadata": {},
   "outputs": [
    {
     "data": {
      "text/plain": [
       "0.125"
      ]
     },
     "execution_count": 44,
     "metadata": {},
     "output_type": "execute_result"
    }
   ],
   "source": [
    "2**-3"
   ]
  },
  {
   "cell_type": "code",
   "execution_count": 45,
   "metadata": {},
   "outputs": [
    {
     "data": {
      "text/plain": [
       "2.0"
      ]
     },
     "execution_count": 45,
     "metadata": {},
     "output_type": "execute_result"
    }
   ],
   "source": [
    "4**0.5"
   ]
  },
  {
   "cell_type": "markdown",
   "metadata": {},
   "source": [
    "## Python text editors and IDEs."
   ]
  },
  {
   "cell_type": "markdown",
   "metadata": {},
   "source": [
    "As we agreed above, we will present in this section some text editors that are definitely best substitutions of the ugly command line interface.\n",
    "\n",
    "The list goes below:"
   ]
  },
  {
   "cell_type": "markdown",
   "metadata": {},
   "source": [
    "- **Visual Studio Code.**<br>\n",
    "- **Atom.**<br>\n",
    "- **Notepad++.**<br>\n",
    "- **Sublime text.**<br>\n",
    "- **Emacs.**<br>\n",
    "- **Wing IDE.**<br>\n",
    "- **PyCharm IDE.**<br>"
   ]
  },
  {
   "cell_type": "markdown",
   "metadata": {},
   "source": [
    "Moreover, we can use **Jupyter Notebook** for writing documents with code that can be exported later to a $LaTeX$ document. This technology is available under _Anaconda_ distribution and will be discussed later."
   ]
  },
  {
   "cell_type": "markdown",
   "metadata": {},
   "source": [
    "## Python primitive data types."
   ]
  },
  {
   "cell_type": "markdown",
   "metadata": {},
   "source": [
    "## References and Useful Resources."
   ]
  },
  {
   "cell_type": "markdown",
   "metadata": {},
   "source": [
    "1- [What is python?](https://www.python.org/doc/essays/blurb/). Python official website: https://www.python.org/doc/essays/blurb/\n",
    "\n",
    "2- [Python code examples](http://www.pythonforbeginners.com/code-snippets-source-code/python-code-examples), The website is: http://www.pythonforbeginners.com/code-snippets-source-code/python-code-examples\n",
    "\n",
    "3- [What can you do with python](https://www.youtube.com/watch?v=hxGB7LU4i1I). The link to this Youtube videw is: https://www.youtube.com/watch?v=hxGB7LU4i1I.\n",
    "\n",
    "4- [Applications for Python](https://www.python.org/about/apps/). The link is: https://www.python.org/about/apps/. It is from the official python website.\n",
    "\n",
    "5- [Top 25 most popular websites built with python](https://www.shuup.com/blog/25-of-the-most-popular-python-and-django-websites/) The link to this blog is: https://www.shuup.com/blog/25-of-the-most-popular-python-and-django-websites/.\n",
    "\n",
    "6- [why to learn python](http://www.bestprogramminglanguagefor.me/why-learn-python) link: http://www.bestprogramminglanguagefor.me/why-learn-python.\n",
    "\n",
    "7- [key differences between Python2.7 and Python 3.6](http://sebastianraschka.com/Articles/2014_python_2_3_key_diff.html). The link to the blog is: http://sebastianraschka.com/Articles/2014_python_2_3_key_diff.html"
   ]
  }
 ],
 "metadata": {
  "kernelspec": {
   "display_name": "Python 3",
   "language": "python",
   "name": "python3"
  },
  "language_info": {
   "codemirror_mode": {
    "name": "ipython",
    "version": 3
   },
   "file_extension": ".py",
   "mimetype": "text/x-python",
   "name": "python",
   "nbconvert_exporter": "python",
   "pygments_lexer": "ipython3",
   "version": "3.6.4"
  },
  "toc": {
   "nav_menu": {
    "height": "153px",
    "width": "286px"
   },
   "number_sections": true,
   "sideBar": true,
   "skip_h1_title": false,
   "title_cell": "Table of Contents",
   "title_sidebar": "Contents",
   "toc_cell": true,
   "toc_position": {
    "height": "calc(100% - 180px)",
    "left": "10px",
    "top": "150px",
    "width": "147px"
   },
   "toc_section_display": true,
   "toc_window_display": true
  }
 },
 "nbformat": 4,
 "nbformat_minor": 2
}
