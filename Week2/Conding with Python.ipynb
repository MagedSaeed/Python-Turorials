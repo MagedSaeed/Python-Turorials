{
 "cells": [
  {
   "cell_type": "markdown",
   "metadata": {},
   "source": [
    "## Python primitive data types"
   ]
  },
  {
   "cell_type": "markdown",
   "metadata": {},
   "source": [
    "Python provides multiple variables types to hold data within. The type of the variable is determined by the assignment operation. The programmer needs not to explicitly declare the variable type. The following is a list of data types."
   ]
  },
  {
   "cell_type": "markdown",
   "metadata": {},
   "source": [
    "### __Boolean Data Type__\n",
    "\n",
    "Variables of this types has only two values, either `True` or `False`. This type of variables is very useful when we need to determine the control flow of the program depending on a truth value of some thing. The name boolean comes after George Boole, a great English mathematician who works on converting logic to mathematical operations. One branches of math is named after him, Boolean Algebra."
   ]
  },
  {
   "cell_type": "markdown",
   "metadata": {},
   "source": [
    "### __Numeric Types__\n",
    "\n",
    "This category holds five data types, `int` for integers, `float` for decimal value numbers, and, interestingly, `complex` for complex numbers.\n",
    "\n",
    "The following code gives example of variables of each data type:"
   ]
  },
  {
   "cell_type": "code",
   "execution_count": 13,
   "metadata": {
    "scrolled": true
   },
   "outputs": [
    {
     "name": "stdout",
     "output_type": "stream",
     "text": [
      "5\n",
      "-5.5\n",
      "(5+4j)\n"
     ]
    }
   ],
   "source": [
    "int_variable = int(5) # you can write: intVariable = 5\n",
    "float_variable = float(-5.5) # you can write: floatVariable = 5.5\n",
    "complex_variable = complex(5,4)\n",
    "\n",
    "print(int_variable)\n",
    "print(float_variable)\n",
    "print(complex_variable)"
   ]
  },
  {
   "cell_type": "markdown",
   "metadata": {},
   "source": [
    "You can convert between these data types as well. However, keep in mind that converting from float values to integer values will truncate the decimal part of the number."
   ]
  },
  {
   "cell_type": "code",
   "execution_count": 14,
   "metadata": {},
   "outputs": [
    {
     "name": "stdout",
     "output_type": "stream",
     "text": [
      "5.0\n",
      "-5\n",
      "(5-5.5j)\n"
     ]
    }
   ],
   "source": [
    "to_float = float(int_variable)\n",
    "print(to_float)\n",
    "to_int = int(float_variable)\n",
    "print(to_int)\n",
    "to_complex = complex(int_variable, float_variable)\n",
    "print(to_complex)"
   ]
  },
  {
   "cell_type": "markdown",
   "metadata": {},
   "source": [
    "There are plenty of mathematical operations you can do on numbers. The following are just examples. __The table is taken from: https://www.programiz.com/python-programming/modules/math__. _Some functions in the original table are not in this table. Go there for more functions_"
   ]
  },
  {
   "cell_type": "markdown",
   "metadata": {},
   "source": [
    "**List of Functions in Python Math Module**\n",
    "\n",
    "- ceil(x)\n",
    "\n",
    "Returns the smallest integer greater than or equal to x.\n",
    "\n",
    "- copysign(x, y)\n",
    "\n",
    "Returns x with the sign of y\n",
    "\n",
    "- fabs(x)\n",
    "\n",
    "Returns the absolute value of x\n",
    "\n",
    "- factorial(x)\n",
    "\n",
    "Returns the factorial of x\n",
    "\n",
    "- floor(x)\n",
    "\n",
    "Returns the largest integer less than or equal to x\n",
    "\n",
    "- fmod(x, y)\n",
    "\n",
    "Returns the remainder when x is divided by y\n",
    "\n",
    "- isinf(x)\n",
    "\n",
    "Returns True if x is a positive or negative infinity\n",
    "\n",
    "- modf(x)\n",
    "\n",
    "Returns the fractional and integer parts of x\n",
    "\n",
    "- trunc(x)\n",
    "\n",
    "Returns the truncated integer value of x\n",
    "\n",
    "- exp(x)\n",
    "\n",
    "Returns e**x\n",
    "\n",
    "- log(x\\[, base\\])\n",
    "\n",
    "Returns the logarithm of x to the base (defaults to e)\n",
    "\n",
    "- log2(x)\n",
    "\n",
    "Returns the base-2 logarithm of x\n",
    "\n",
    "- log10(x)\n",
    "\n",
    "Returns the base-10 logarithm of x\n",
    "\n",
    "- pow(x, y)\n",
    "\n",
    "Returns x raised to the power y\n",
    "\n",
    "- sqrt(x)\n",
    "\n",
    "Returns the square root of x\n",
    "\n",
    "- acos(x)\n",
    "\n",
    "Returns the arc cosine of x\n",
    "\n",
    "- asin(x)\n",
    "\n",
    "Returns the arc sine of x\n",
    "\n",
    "- atan(x)\n",
    "\n",
    "Returns the arc tangent of x\n",
    "\n",
    "- atan2(y, x)\n",
    "\n",
    "Returns atan(y / x)\n",
    "\n",
    "- cos(x)\n",
    "\n",
    "Returns the cosine of x\n",
    "\n",
    "- sin(x)\n",
    "\n",
    "Returns the sine of x\n",
    "\n",
    "- tan(x)\n",
    "\n",
    "Returns the tangent of x\n",
    "\n",
    "- degrees(x)\n",
    "\n",
    "Converts angle x from radians to degrees\n",
    "\n",
    "- radians(x)\n",
    "\n",
    "Converts angle x from degrees to radians\n",
    "\n",
    "- acosh(x)\n",
    "\n",
    "Returns the inverse hyperbolic cosine of x\n",
    "\n",
    "- asinh(x)\n",
    "\n",
    "Returns the inverse hyperbolic sine of x\n",
    "\n",
    "- atanh(x)\n",
    "\n",
    "Returns the inverse hyperbolic tangent of x\n",
    "\n",
    "- cosh(x)\n",
    "\n",
    "Returns the hyperbolic cosine of x\n",
    "\n",
    "- sinh(x)\n",
    "\n",
    "Returns the hyperbolic cosine of x\n",
    "\n",
    "- tanh(x)\n",
    "\n",
    "Returns the hyperbolic tangent of x\n",
    "\n",
    "- erf(x)\n",
    "\n",
    "Returns the error function at x\n",
    "\n",
    "- erfc(x)\n",
    "\n",
    "Returns the complementary error function at x\n",
    "\n",
    "- gamma(x)\n",
    "\n",
    "Returns the Gamma function at x\n",
    "\n",
    "- lgamma(x)\n",
    "\n",
    "Returns the natural logarithm of the absolute value of the Gamma function at x\n",
    "\n",
    "- pi\n",
    "\n",
    "Mathematical constant, the ratio of circumference of a circle to it's diameter (3.14159...)\n",
    "\n",
    "- e\n",
    "\n",
    "mathematical constant e (2.71828...)"
   ]
  },
  {
   "cell_type": "code",
   "execution_count": 125,
   "metadata": {},
   "outputs": [
    {
     "name": "stdout",
     "output_type": "stream",
     "text": [
      "2\n",
      "1\n",
      "(0.25, 1.0)\n",
      "5040\n",
      "11.0\n",
      "15.154262241479262\n",
      "153.93804002589985\n",
      "1\n",
      "2\n",
      "1.3228756555322954\n"
     ]
    }
   ],
   "source": [
    "# Most of these functions are in the math module.\n",
    "# we need to import that moduel in order to use them.\n",
    "import math\n",
    "x = 2048\n",
    "y = 7\n",
    "z = 1.25\n",
    "w = 1.75\n",
    "\n",
    "print(math.ceil(z))\n",
    "print(math.floor(z))\n",
    "print(math.modf(z))\n",
    "print(math.factorial(y))\n",
    "print(math.log2(x))\n",
    "print(math.exp(math.e)) # e^e\n",
    "print(math.pi*math.pow(7,2)) # pi * 7^2\n",
    "print(round(z))\n",
    "print(round(w))\n",
    "print(math.sqrt(w))"
   ]
  },
  {
   "cell_type": "markdown",
   "metadata": {},
   "source": [
    "### __Strings__"
   ]
  },
  {
   "cell_type": "markdown",
   "metadata": {},
   "source": [
    "Strings are the data type representing a sequence of characters. Almost every programming language has its way of manipulating strings and python is not an exception.\n",
    "\n",
    "As we have with numeric data types, strings have their own functions and methods. In this section, we will try to delve a little bit on string functions and methods."
   ]
  },
  {
   "cell_type": "code",
   "execution_count": 20,
   "metadata": {},
   "outputs": [
    {
     "name": "stdout",
     "output_type": "stream",
     "text": [
      "I am a string\n",
      "I am another string!\n"
     ]
    }
   ],
   "source": [
    "# Strings can be defined double quoted as follows:\n",
    "a = \"I am a string\"\n",
    "# or single quoted as follows:\n",
    "b = 'I am another string!'\n",
    "print(a)\n",
    "print(b)"
   ]
  },
  {
   "cell_type": "markdown",
   "metadata": {},
   "source": [
    "#### String functions and properties"
   ]
  },
  {
   "cell_type": "markdown",
   "metadata": {},
   "source": [
    "- **Strings can be compared**"
   ]
  },
  {
   "cell_type": "markdown",
   "metadata": {},
   "source": [
    "By comparing tow strings, the alphabetically greater string will be returned. Look at the following:"
   ]
  },
  {
   "cell_type": "code",
   "execution_count": 16,
   "metadata": {},
   "outputs": [
    {
     "name": "stdout",
     "output_type": "stream",
     "text": [
      "False\n",
      "True\n"
     ]
    }
   ],
   "source": [
    "a = \"a\"\n",
    "b = 'b'\n",
    "print (a>b)\n",
    "\n",
    "a = \"ai\"\n",
    "b = \"ak\"\n",
    "print(a<b)"
   ]
  },
  {
   "cell_type": "markdown",
   "metadata": {},
   "source": [
    "- **Length of the string**\n",
    "```len()``` function will return the number of characters in a given string. This function is very useful!"
   ]
  },
  {
   "cell_type": "code",
   "execution_count": 17,
   "metadata": {},
   "outputs": [
    {
     "name": "stdout",
     "output_type": "stream",
     "text": [
      "15\n"
     ]
    }
   ],
   "source": [
    "a = \"this is string!\" # there are 15 characters!! dont forget to count spaces :)\n",
    "print(len(a))"
   ]
  },
  {
   "cell_type": "markdown",
   "metadata": {},
   "source": [
    "- **String concatenation**"
   ]
  },
  {
   "cell_type": "markdown",
   "metadata": {},
   "source": [
    "We can put two strings together in one string by just using the '+' operator. as follows:"
   ]
  },
  {
   "cell_type": "code",
   "execution_count": 22,
   "metadata": {},
   "outputs": [
    {
     "name": "stdout",
     "output_type": "stream",
     "text": [
      "the resulted string is: This is a string! and this is a second string!\n"
     ]
    }
   ],
   "source": [
    "a = \"This is a string!\"\n",
    "# do not forget to add space in the last of the first concatenated string\n",
    "# or in the first of the second string to so that the resulted string looks nice!\n",
    "b = \" and this is a second string!\"\n",
    "# you can have multiple strings in the print statement!!\n",
    "print(\"the resulted string is:\", a+b)"
   ]
  },
  {
   "cell_type": "markdown",
   "metadata": {},
   "source": [
    "- **Indexing**"
   ]
  },
  {
   "cell_type": "markdown",
   "metadata": {},
   "source": [
    "You can retrieve any character from a string by indexing it in a square brackets [ ]! **Do not forget that the first character in the string is indexed by 0.** _Remember that_ indexing a string with a greater, or lower, number will fire a <u>python error!</u>"
   ]
  },
  {
   "cell_type": "code",
   "execution_count": 117,
   "metadata": {},
   "outputs": [
    {
     "name": "stdout",
     "output_type": "stream",
     "text": [
      "the sixth character of 'a' string is: i\n",
      "the first character of 'a' string is: t\n",
      "The last character of 'a' is: !\n",
      "the middle character of 'a' is:c\n"
     ]
    }
   ],
   "source": [
    "# the value of variable a is \"this is string\" from the previous runnable cell.\n",
    "print(\"the sixth character of 'a' string is:\", a[5])\n",
    "print(\"the first character of 'a' string is:\", a[0])\n",
    "\n",
    "# here we will print the last element of the string.\n",
    "# by using len() function, it is not necessary to know the length of the string.\n",
    "# we need to subtract it by one becuase of the first index which is ZERO.\n",
    "print(\"The last character of 'a' is: \"+a[len(a)-1])\n",
    "\n",
    "# We may use floor() function with len() to get the middle element of the string as well\n",
    "# remember that we cannot use float \"real\" numbers to index string. Integers are only allowed.\n",
    "print(\"the middle character of 'a' is:\"+a[math.floor(len(a)/2)])\n",
    "\n",
    "# this code will fire an error:\n",
    "#print(a[len(a)])"
   ]
  },
  {
   "cell_type": "markdown",
   "metadata": {},
   "source": [
    "**Interestingly, ** Python allows for negative indexing. What does this mean? It means that we can use negative numbers to retrieve characters from strings. Negative indexes will start from the last. Thus index of -1 means the last character of the string and -2 is the second to last and so on."
   ]
  },
  {
   "cell_type": "code",
   "execution_count": 28,
   "metadata": {},
   "outputs": [
    {
     "name": "stdout",
     "output_type": "stream",
     "text": [
      "the last char is: g\n",
      "the second to last char is: n\n"
     ]
    }
   ],
   "source": [
    "a = \"this is a string\"\n",
    "print(\"the last char is:\", a[-1])\n",
    "print(\"the second to last char is:\", a[-2])"
   ]
  },
  {
   "cell_type": "markdown",
   "metadata": {},
   "source": [
    "Figure 1 is taken from Google developers website and gives a good description about that kind of indexes. I just copy and paste the image."
   ]
  },
  {
   "cell_type": "markdown",
   "metadata": {},
   "source": [
    "![Figure 1](hello.png)"
   ]
  },
  {
   "cell_type": "markdown",
   "metadata": {},
   "source": [
    "- **String slicing**\n",
    "String slicing is the python method to retrieve a substring of a given string. As a casual indexing, we can use square brackets to slice a string as follows:\n",
    "\n",
    "__str.[start: stop: step]__\n",
    "\n",
    "__start__: the position of the first character to retrieve.\n",
    "\n",
    "__stop__: the position of the last character to retrieve.\n",
    "\n",
    "__step__: how many steps to take."
   ]
  },
  {
   "cell_type": "code",
   "execution_count": 40,
   "metadata": {},
   "outputs": [
    {
     "name": "stdout",
     "output_type": "stream",
     "text": [
      "a is: this is a string\n",
      "starts from the third char to seventh char.\n",
      "is i\n",
      "starts from the second char to seventh char stepping two chars at a time.\n",
      "i \n",
      "the whole 'a' string is: this is a string\n"
     ]
    }
   ],
   "source": [
    "print('a is:',a)\n",
    "\n",
    "print('starts from the third char to seventh char.')\n",
    "print(a[2:6])\n",
    "\n",
    "print('starts from the second char to seventh char stepping two chars at a time.')\n",
    "print(a[2:6:2])\n",
    "\n",
    "#this will return the whole string :)\n",
    "print(\"the whole 'a' string is:\", a[0:len(a)])"
   ]
  },
  {
   "cell_type": "markdown",
   "metadata": {},
   "source": [
    "- **More on slicing**"
   ]
  },
  {
   "cell_type": "markdown",
   "metadata": {},
   "source": [
    "Many things we can do with strings.\n",
    "- we can leave indexes empty so that python can use the default values. (i.e [ : : ]).\n",
    "- defalut value for __start__ is 0.\n",
    "- default value for __stop__ is _len()_.\n",
    "- default value for __step__ is 1.\n",
    "- negative indexes are allowed.\n",
    "- [ : : -1] will flip the defaults to: [-1: -(len()+1):-1]. Simply, it will reverse the string because it will start from the last element up to the first one.\n",
    "- If negative numbers are used in the __step__, then __start__ must be greater than stop and the other way around for positive numbers."
   ]
  },
  {
   "cell_type": "code",
   "execution_count": 43,
   "metadata": {},
   "outputs": [
    {
     "name": "stdout",
     "output_type": "stream",
     "text": [
      "this is 'a' string: this is a string\n",
      "this is a string\n",
      "gnirts a si siht\n"
     ]
    }
   ],
   "source": [
    "print(\"this is 'a' string:\", a)\n",
    "\n",
    "# using default values will return the whole string:\n",
    "print(a[::])\n",
    "\n",
    "# reverse the string:\n",
    "print(a[::-1])"
   ]
  },
  {
   "cell_type": "markdown",
   "metadata": {},
   "source": [
    "- **Split**"
   ]
  },
  {
   "cell_type": "markdown",
   "metadata": {},
   "source": [
    "You can split a given string into a list of strings based on a given delimiter. Suppose that I want to get all the words separated by a space from a string, then this function is useful. Do not worry about the word ```list``` will talk about it later."
   ]
  },
  {
   "cell_type": "code",
   "execution_count": 118,
   "metadata": {},
   "outputs": [
    {
     "name": "stdout",
     "output_type": "stream",
     "text": [
      "['This', 'is', 'a', 'string!!']\n"
     ]
    }
   ],
   "source": [
    "a = \"This is a string!!\"\n",
    "# if there is nothing passed to the funtion,\n",
    "#then the default is the white sapce.\n",
    "print(a.split())"
   ]
  },
  {
   "cell_type": "markdown",
   "metadata": {},
   "source": [
    "- **join**"
   ]
  },
  {
   "cell_type": "markdown",
   "metadata": {},
   "source": [
    "Join() function is the opposite of the split function. It takes a list of strings and add them up to one string. We can use a given string as a connector. Look at the following code:"
   ]
  },
  {
   "cell_type": "code",
   "execution_count": 122,
   "metadata": {},
   "outputs": [
    {
     "name": "stdout",
     "output_type": "stream",
     "text": [
      "this is, a string\n"
     ]
    }
   ],
   "source": [
    "a=\"this is\"\n",
    "b=\"a string\"\n",
    "# join the two strings with comma in between\n",
    "print(\", \".join([a,b]))"
   ]
  },
  {
   "cell_type": "markdown",
   "metadata": {},
   "source": [
    "#### More python string functions."
   ]
  },
  {
   "cell_type": "markdown",
   "metadata": {},
   "source": [
    "This section, will talk about general strings functions. The description of each method is given within the code block in the following coding paragraph."
   ]
  },
  {
   "cell_type": "code",
   "execution_count": 89,
   "metadata": {},
   "outputs": [
    {
     "name": "stdout",
     "output_type": "stream",
     "text": [
      "1: THIS IS A STRING\n",
      "2: this is a string\n",
      "3: False\n",
      "4: True\n",
      "5: False\n",
      "6: True\n",
      "7: False\n",
      "8: True\n",
      "9: 2\n",
      "10: this is a nicer string!!\n"
     ]
    }
   ],
   "source": [
    "a = \"This is a string\"\n",
    "\n",
    "# the following functions are self-descriptive functions.\n",
    "a = a.upper()\n",
    "print(\"1:\",a)\n",
    "\n",
    "a = a.lower()\n",
    "print(\"2:\",a)\n",
    "\n",
    "\n",
    "# the following functions will test the given string according to their namings.\n",
    "\n",
    "#This function test whether a string is all alphabets.\n",
    "#Spaces and !! will cause the function to return False.\n",
    "print(\"3:\",a.isalpha())\n",
    "\n",
    "#By the way, You can define a string on the fly and test it against this function.\n",
    "#Look at this code:\n",
    "print(\"4:\",\"thisstringisallalphabetics\".isalpha())\n",
    "\n",
    "#tests for digits:\n",
    "print(\"5:\",a.isdigit())\n",
    "print(\"6:\",\"123456789\".isdigit())\n",
    "\n",
    "#tests for space:\n",
    "print(\"7:\",a.isspace())\n",
    "print(\"8:\",\"  \".isspace())\n",
    "\n",
    "\n",
    "# this function will search a string for a given substring.\n",
    "# it returns the index of teh first occurance.\n",
    "print(\"9:\",a.find(\"is\"))\n",
    "\n",
    "# this function will replace a given substring with another substring.\n",
    "\n",
    "a = a.replace(\"string\",\"nicer string!!\")\n",
    "print(\"10:\",a)\n",
    "\n",
    "#"
   ]
  },
  {
   "cell_type": "markdown",
   "metadata": {},
   "source": [
    "And by this ends the String section."
   ]
  },
  {
   "cell_type": "markdown",
   "metadata": {},
   "source": [
    "## Python Operators"
   ]
  },
  {
   "cell_type": "markdown",
   "metadata": {},
   "source": [
    "Operators are special characters with specific functionalities. There are different types of operands. The following lists will show many operands of different kinds."
   ]
  },
  {
   "cell_type": "markdown",
   "metadata": {},
   "source": [
    "I just copied and pasted these lists from this good sources:\n",
    "https://www.geeksforgeeks.org/basic-operators-python/"
   ]
  },
  {
   "cell_type": "markdown",
   "metadata": {},
   "source": [
    " **Operator \tDescription \tSyntax**\n",
    " ________\n",
    " \n",
    "    - Arithmetic Operators.\n",
    "- [\\+] \tAddition: adds two operands \tx + y\n",
    "- [\\-] \tSubtraction: subtracts two operands \tx - y\n",
    "- [\\*] \tMultiplication: multiplies two operands \tx * y\n",
    "- [/] \tDivision (float): divides the first operand by the second \tx / y\n",
    "- [//] \tDivision (floor): divides the first operand by the second \tx // y\n",
    "---\n",
    "    - Relational Operators.\n",
    "- [>] \tGreater than: True if left operand is greater than the right \tx > y\n",
    "- [<] \tLess than: True if left operand is less than the right \tx < y\n",
    "- [==] \tEqual to: True if both operands are equal \tx == y\n",
    "- [!=] \tNot equal to - True if operands are not equal \tx != y\n",
    "- [>=] \tGreater than or equal to: True if left operand is greater than or equal to the right \tx >= y\n",
    "- [<=] \tLess than or equal to: True if left operand is less than or equal to the right \tx <= y\n",
    "-----\n",
    "    - Logical Operators\n",
    "- and \tLogical AND: True if both the operands are true \tx and y\n",
    "- or \tLogical OR: True if either of the operands is true \tx or y\n",
    "- not \tLogical NOT: True if operand is false \tnot x\n",
    "-----\n",
    "    - Assignment Operators\n",
    "    \n",
    "- = \tAssign value of right side of expression to left side operand \tx = y + z\n",
    "- += \tAdd AND: Add right side operand with left side operand and then assign to left operand \ta+=b     a=a+b\n",
    "- -= \tSubtract AND: Subtract right operand from left operand and then assign to left operand \ta-=b       a=a-b\n",
    "- *= \tMultiply AND: Multiply right operand with left operand and then assign to left operand \ta*=b       a=a*b\n",
    "- /= \tDivide AND: Divide left operand with right operand and then assign to left operand \ta/=b         a=a/b\n",
    "- %= \tModulus AND: Takes modulus using left and right operands and assign result to left operand \ta%=b   a=a%b\n",
    "- //= \tDivide(floor) AND: Divide left operand with right operand and then assign the value(floor) to left operand \ta//=b       a=a//b\n",
    "- \\**= \tExponent AND: Calculate exponent(raise power) value using operands and assign value to left operand"
   ]
  },
  {
   "cell_type": "code",
   "execution_count": 130,
   "metadata": {},
   "outputs": [
    {
     "name": "stdout",
     "output_type": "stream",
     "text": [
      "13\n",
      "5\n",
      "36\n",
      "2.25\n",
      "2\n",
      "1\n",
      "False\n",
      "True\n",
      "False\n",
      "True\n",
      "False\n",
      "True\n",
      "False\n",
      "True\n",
      "False\n"
     ]
    }
   ],
   "source": [
    "# Examples of Arithmetic Operator\n",
    "a = 9\n",
    "b = 4\n",
    " \n",
    "# Addition of numbers\n",
    "add = a + b\n",
    "# Subtraction of numbers \n",
    "sub = a - b\n",
    "# Multiplication of number \n",
    "mul = a * b\n",
    "# Division(float) of number \n",
    "div1 = a / b\n",
    "# Division(floor) of number \n",
    "div2 = a // b\n",
    "# Modulo of both number\n",
    "mod = a % b\n",
    " \n",
    "# print results\n",
    "print(add)\n",
    "print(sub)\n",
    "print(mul)\n",
    "print(div1)\n",
    "print(div2)\n",
    "print(mod)\n",
    "\n",
    "\n",
    "# Examples of Relational Operators\n",
    "a = 13\n",
    "b = 33\n",
    " \n",
    "# a > b is False\n",
    "print(a > b)\n",
    " \n",
    "# a < b is True\n",
    "print(a < b)\n",
    " \n",
    "# a == b is False\n",
    "print(a == b)\n",
    " \n",
    "# a != b is True\n",
    "print(a != b)\n",
    " \n",
    "# a >= b is False\n",
    "print(a >= b)\n",
    " \n",
    "# a <= b is True\n",
    "print(a <= b)\n",
    "\n",
    "\n",
    "# Examples of Logical Operator\n",
    "a = True\n",
    "b = False\n",
    " \n",
    "# Print a and b is False\n",
    "print(a and b)\n",
    " \n",
    "# Print a or b is True\n",
    "print(a or b)\n",
    " \n",
    "# Print not a is False\n",
    "print(not a)\n",
    "\n"
   ]
  },
  {
   "cell_type": "markdown",
   "metadata": {},
   "source": [
    "## Python Data Structures"
   ]
  },
  {
   "cell_type": "markdown",
   "metadata": {},
   "source": [
    "The previous data types are so useful. They are used to hold the data we need to process. However, they are not enough. What about having a dozen of data? defining variables for each is redundant or even ridiculous! That is why python, as many other languages, provides data structures."
   ]
  },
  {
   "cell_type": "markdown",
   "metadata": {},
   "source": [
    "### Lists"
   ]
  },
  {
   "cell_type": "markdown",
   "metadata": {},
   "source": [
    "Lists are one of the simplest data types. You can think of it as a sequence of elements. In that context, we can say that strings are special type of lists as they are just a sequence of characters. In fact, both of them \"strings and lists\" shares many properties and functions. **keep in mind that lists should contain elements of the same type!!**"
   ]
  },
  {
   "cell_type": "markdown",
   "metadata": {},
   "source": [
    "#### Playing with lists."
   ]
  },
  {
   "cell_type": "code",
   "execution_count": 191,
   "metadata": {},
   "outputs": [
    {
     "name": "stdout",
     "output_type": "stream",
     "text": [
      "1: mylilst: [0]\n",
      "2: mylist: [0, 1, 2, 3, 4, 5, 6, 7, 8, 9]\n",
      "3: mylist: [0, 1, 2, 3, 4, 5, 6, 7, 7, 8, 9]\n",
      "4: mylist [0, 1, 2, 3, 4, 5, 6, 7, 8, 9]\n",
      "5: mylist: [1, 2, 3, 4, 5, 6, 7, 8, 9]\n",
      "6: mylist: [1, 2, 3, 4, 5, 6, 7, 8]\n",
      "7: mylist: [2, 3, 4, 5, 6, 7, 8]\n",
      "8: mylist: []\n",
      "9: sublist: [1, 3, 5, 7, 9]\n",
      "10: the first five elements reversed: [5, 4, 3, 2, 1]\n",
      "11: mylist: [9, 8, 7, 6, 5, 4, 3, 2, 1, 0]\n",
      "12: mylist: [0, 1, 2, 3, 4, 5, 6, 7, 8, 9]\n",
      "13: number of 5's: 1\n",
      "14: number of elements in mylist: 10\n",
      "15: index of 5: 5\n",
      "16: sum of mylist elements: 45\n",
      "17: max of mylist: 9\n",
      "18: min of mylist: 0\n"
     ]
    }
   ],
   "source": [
    "# to define a new list:\n",
    "mylist = []\n",
    "\n",
    "# you can also say:\n",
    "mylist2 = [1,2,3,4,5,6,7,8,9]\n",
    "\n",
    "# add item to a list:\n",
    "mylist.append(0)\n",
    "print(\"1: mylilst:\",mylist)\n",
    "\n",
    "#add list to list:\n",
    "mylist.extend(mylist2)\n",
    "print(\"2: mylist:\", mylist)\n",
    "# you can also use this shortcut:\n",
    "#mylist += mylist2\n",
    "\n",
    "#you can insert items to any index:\n",
    "mylist.insert(7,7)\n",
    "print(\"3: mylist:\", mylist)\n",
    "\n",
    "#Remove the first item from the list whose value is x.\n",
    "mylist.remove(7)\n",
    "print(\"4: mylist\",mylist)\n",
    "#It is an error if there is no such item.\n",
    "# the following line will produce an error:\n",
    "#mylist.remove(10)\n",
    "\n",
    "# or you can delete element at a given index:\n",
    "del mylist[0]\n",
    "print(\"5: mylist:\",mylist)\n",
    "\n",
    "# you can use pop() function to do the same thing.\n",
    "# However, passing no index to pop() will delete the last element of the array.\n",
    "mylist.pop()\n",
    "print(\"6: mylist:\", mylist)\n",
    "mylist.pop(0)\n",
    "print(\"7: mylist:\",mylist)\n",
    "\n",
    "\n",
    "# to clear the list \"remove all elements at once\":\n",
    "mylist.clear()\n",
    "print(\"8: mylist:\",mylist)\n",
    "# let us return our list back for further manipulations:\n",
    "mylist = [0,1,2,3,4,5,6,7,8,9]\n",
    "\n",
    "# as we have done with string, we can index lists as well.\n",
    "# this will retrive elements in the odd indexes:\n",
    "sublist = mylist[1::2]\n",
    "print(\"9: sublist:\",sublist)\n",
    "#negative indexes applies to lists as well. BUT REVERSED:\n",
    "sublist = mylist[5:0:-1]\n",
    "print(\"10: the first five elements reversed:\",sublist)\n",
    "\n",
    "# you can reverse the list as follows:\n",
    "mylist.reverse()\n",
    "print(\"11: mylist:\", mylist)\n",
    "\n",
    "#you can sort the list as follows:\n",
    "mylist.sort()\n",
    "print(\"12: mylist:\", mylist)\n",
    "# you can also sort with reverse as follows:\n",
    "#mylist.sort(reverse=True)\n",
    "\n",
    "# you can get the number an elements is repeated in a list:\n",
    "print(\"13: number of 5's:\",mylist.count(5))\n",
    "\n",
    "# len() function can be used to get the number of elements:\n",
    "print(\"14: number of elements in mylist:\",len(mylist))\n",
    "\n",
    "# you can retrive the index of any element:\n",
    "print(\"15: index of 5:\", mylist.index(5))\n",
    "\n",
    "#-------------------------------------------------------------\n",
    "# The following methods are only applicable for numeric types:\n",
    "#-------------------------------------------------------------\n",
    "# sum a list:\n",
    "print(\"16: sum of mylist elements:\",sum(mylist))\n",
    "\n",
    "# max of list:\n",
    "print(\"17: max of mylist:\", max(mylist))\n",
    "\n",
    "# min of list:\n",
    "print(\"18: min of mylist:\", min(mylist))"
   ]
  },
  {
   "cell_type": "code",
   "execution_count": 192,
   "metadata": {},
   "outputs": [
    {
     "name": "stdout",
     "output_type": "stream",
     "text": [
      "range(0, 10)\n"
     ]
    }
   ],
   "source": [
    "# range function usage\n",
    "# get list from 0,10\n",
    "print(range(10))"
   ]
  },
  {
   "cell_type": "markdown",
   "metadata": {},
   "source": [
    "### Dictionaries"
   ]
  },
  {
   "cell_type": "markdown",
   "metadata": {},
   "source": [
    "It is a useful data structure. The different between lists and dictionaries is that lists are indexed by integers while dictionaries are indexed by sort of keys!"
   ]
  },
  {
   "cell_type": "markdown",
   "metadata": {},
   "source": [
    "#### Playing with dictionaries"
   ]
  },
  {
   "cell_type": "code",
   "execution_count": 193,
   "metadata": {},
   "outputs": [
    {
     "name": "stdout",
     "output_type": "stream",
     "text": [
      "1: dict: {'name': 'KFUPM', 'age': 55}\n",
      "2: dict keys: dict_keys(['name', 'age'])\n",
      "3: dict values: dict_values(['KFUPM', 55])\n",
      "4: {'name': 'King Fahd University for Petroleum and Minerals', 'age': 55}\n",
      "5: {'name': 'King Fahd University for Petroleum and Minerals', 'age': 55, 'short name': 'KFUPM'}\n",
      "6: {'name': 'King Fahd University for Petroleum and Minerals', 'short name': 'KFUPM'}\n"
     ]
    }
   ],
   "source": [
    "# initialize a dictionary:\n",
    "dict = {'name':'KFUPM', 'age':55}\n",
    "print(\"1: dict:\",dict)\n",
    "\n",
    "# get only keys:\n",
    "print(\"2: dict keys:\",dict.keys())\n",
    "\n",
    "# get only values:\n",
    "print(\"3: dict values:\", dict.values())\n",
    "\n",
    "# update dict:\n",
    "dict[\"name\"]= \"King Fahd University for Petroleum and Minerals\"\n",
    "print(\"4:\",dict)\n",
    "\n",
    "# add new key-value element:\n",
    "dict[\"short name\"]= \"KFUPM\"\n",
    "print(\"5:\",dict)\n",
    "\n",
    "# delete a key:\n",
    "dict.pop('age',None)\n",
    "print(\"6:\",dict)"
   ]
  },
  {
   "cell_type": "markdown",
   "metadata": {},
   "source": [
    "### accessing list elements"
   ]
  },
  {
   "cell_type": "markdown",
   "metadata": {},
   "source": [
    "You can access list elements using loops. We will talk about loops later in details. However, we will use it here to access list elements."
   ]
  },
  {
   "cell_type": "code",
   "execution_count": 194,
   "metadata": {},
   "outputs": [
    {
     "name": "stdout",
     "output_type": "stream",
     "text": [
      "list elements are:\n",
      "0, 1, 2, 3, 4, 5, 6, 7, 8, 9, \n"
     ]
    }
   ],
   "source": [
    "#you can access list elements as follows:\n",
    "\n",
    "print(\"list elements are:\")\n",
    "for elem in mylist:\n",
    "    print(elem, end=\", \")\n",
    "print()\n"
   ]
  },
  {
   "cell_type": "code",
   "execution_count": 197,
   "metadata": {},
   "outputs": [
    {
     "name": "stdout",
     "output_type": "stream",
     "text": [
      "elements of range() function:\n",
      "0, 1, 2, 3, 4, 5, 6, 7, 8, 9, \n",
      "doubled lists elements:\n",
      "[0, 8, 16, 24, 32, 40, 48, 56, 64, 72]\n"
     ]
    }
   ],
   "source": [
    "# also, you can access list elements by index.\n",
    "# we will use range() function to generage iterable integers.\n",
    "# its usage is similar to list indexes.\n",
    "# range(start, stop, step) with the same default values of list inexing.\n",
    "print(\"elements of range() function:\")\n",
    "for i in range(10):\n",
    "    # let us print numbers of range function:\n",
    "    print(i, end=\", \")\n",
    "print()    \n",
    "# now, we can access list elements as follows:\n",
    "# multiply each list element by 2:\n",
    "print(\"doubled lists elements:\")\n",
    "for i in range(len(mylist)):\n",
    "    mylist[i] *= 2\n",
    "\n",
    "\n",
    "print(mylist)\n"
   ]
  },
  {
   "cell_type": "markdown",
   "metadata": {},
   "source": [
    "## Exercises"
   ]
  },
  {
   "cell_type": "code",
   "execution_count": 201,
   "metadata": {},
   "outputs": [
    {
     "name": "stdout",
     "output_type": "stream",
     "text": [
      "enter some input: Hello world of python! :)\n",
      "you entered: Hello world of python! :)\n"
     ]
    }
   ],
   "source": [
    "# use the following line to ask some input from the user.\n",
    "\n",
    "x = input(\"enter some input: \")\n",
    "print(\"you entered:\",x)"
   ]
  },
  {
   "cell_type": "code",
   "execution_count": null,
   "metadata": {},
   "outputs": [],
   "source": [
    "# Write a Python program to remove duplicates from a list.\n",
    "\n",
    "\n",
    "\n",
    "\n",
    "\n",
    "\n",
    "\n",
    "\n",
    "\n",
    "\n",
    "# Write a Python program to count the number of characters (character frequency)\n",
    "#in a string. and write them to a dictionary\n",
    "#Sample String : google.com'\n",
    "#Expected Result : {'o': 3, 'g': 2, '.': 1, 'e': 1, 'l': 1, 'm': 1, 'c': 1}\n",
    "\n",
    "\n",
    "\n",
    "\n",
    "\n",
    "\n",
    "\n",
    "\n",
    "\n",
    "\n",
    "\n",
    "#Write a Python program to get a single string from two given strings.\n",
    "#separated by a space and swap the first two characters of each string!\n",
    "\n",
    "\n",
    "\n",
    "\n",
    "\n",
    "\n",
    "\n",
    "\n",
    "\n",
    "\n",
    "\n",
    "\n",
    "# Write a Python program to sum all the items in a list\n",
    "# DO NOT USE THE SUM() FUNCTION BUT USE IT TO COMPARE WITH YOUR RESUTS\n",
    "\n",
    "\n",
    "\n",
    "\n",
    "\n",
    "\n",
    "\n",
    "\n"
   ]
  },
  {
   "cell_type": "markdown",
   "metadata": {},
   "source": [
    "## Resources"
   ]
  },
  {
   "cell_type": "markdown",
   "metadata": {},
   "source": [
    "1- https://www.pythoncentral.io/pythons-range-function-explained/\n",
    "\n",
    "2- https://docs.python.org/3/tutorial/datastructures.html\n",
    "\n",
    "3- https://www.tutorialspoint.com/python/python_loops.htm\n",
    "\n",
    "4- https://developers.google.com/edu/python/strings\n"
   ]
  },
  {
   "cell_type": "code",
   "execution_count": null,
   "metadata": {},
   "outputs": [],
   "source": []
  }
 ],
 "metadata": {
  "kernelspec": {
   "display_name": "Python 3",
   "language": "python",
   "name": "python3"
  },
  "language_info": {
   "codemirror_mode": {
    "name": "ipython",
    "version": 3
   },
   "file_extension": ".py",
   "mimetype": "text/x-python",
   "name": "python",
   "nbconvert_exporter": "python",
   "pygments_lexer": "ipython3",
   "version": "3.6.5"
  },
  "toc": {
   "nav_menu": {},
   "number_sections": true,
   "sideBar": true,
   "skip_h1_title": false,
   "title_cell": "Table of Contents",
   "title_sidebar": "Contents",
   "toc_cell": false,
   "toc_position": {
    "height": "calc(100% - 180px)",
    "left": "10px",
    "top": "150px",
    "width": "165px"
   },
   "toc_section_display": true,
   "toc_window_display": false
  }
 },
 "nbformat": 4,
 "nbformat_minor": 2
}
