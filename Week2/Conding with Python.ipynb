{
 "cells": [
  {
   "cell_type": "markdown",
   "metadata": {},
   "source": [
    "## Python primitive data types"
   ]
  },
  {
   "cell_type": "markdown",
   "metadata": {},
   "source": [
    "Python provides multiple variables types to hold data within. The type of the variable is determined by the assignment operation. The programmer needs not to explicitly declare the variable type. The following is a list of data types."
   ]
  },
  {
   "cell_type": "markdown",
   "metadata": {},
   "source": [
    "- __Boolean Data Type__\n",
    "\n",
    "Variables of this types has only two values, either `True` or `False`. This type of variables is very useful when we need to determine the control flow of the program depending on a truth value of some thing. The name boolean comes after George Boole, a great English mathematician who works on converting logic to mathematical operations. One branches of math is named after him, Boolean Algebra."
   ]
  },
  {
   "cell_type": "markdown",
   "metadata": {},
   "source": [
    "- __Numeric Types__\n",
    "\n",
    "This category holds five data types, `int` for integers, `float` for decimal value numbers, and, interestingly, `complex` for complex numbers.\n",
    "\n",
    "The following code gives example of variables of each data type:"
   ]
  },
  {
   "cell_type": "code",
   "execution_count": 26,
   "metadata": {
    "scrolled": true
   },
   "outputs": [
    {
     "name": "stdout",
     "output_type": "stream",
     "text": [
      "5\n",
      "-5.5\n",
      "(5+4j)\n"
     ]
    }
   ],
   "source": [
    "int_variable = int(5) # you can write: intVariable = 5\n",
    "float_variable = float(-5.5) # you can write: floatVariable = 5.5\n",
    "complex_variable = complex(5,4)\n",
    "\n",
    "print(int_variable)\n",
    "print(float_variable)\n",
    "print(complex_variable)"
   ]
  },
  {
   "cell_type": "markdown",
   "metadata": {},
   "source": [
    "You can convert between these data types as well. However, keep in mind that converting from float values to integer values will truncate the decimal part of the number."
   ]
  },
  {
   "cell_type": "code",
   "execution_count": 27,
   "metadata": {},
   "outputs": [
    {
     "name": "stdout",
     "output_type": "stream",
     "text": [
      "5.0\n",
      "-5\n",
      "(5-5.5j)\n"
     ]
    }
   ],
   "source": [
    "to_float = float(int_variable)\n",
    "print(to_float)\n",
    "to_int = int(float_variable)\n",
    "print(to_int)\n",
    "to_complex = complex(int_variable, float_variable)\n",
    "print(to_complex)"
   ]
  },
  {
   "cell_type": "markdown",
   "metadata": {},
   "source": [
    "There are plenty of mathematical operations you can do on numbers. The following are just examples. __The table is taken from: https://www.programiz.com/python-programming/modules/math__. _Some functions in the original table are not in this table. Go there for more functions_"
   ]
  },
  {
   "cell_type": "markdown",
   "metadata": {},
   "source": [
    "<table border=\"1\">\n",
    "\t<caption>List of Functions in Python Math Module</caption>\n",
    "\t<tbody>\n",
    "\t\t<tr>\n",
    "\t\t\t<th style=\"text-align:left\">Function</th>\n",
    "\t\t\t<th style=\"text-align:left\">Description</th>\n",
    "\t\t</tr>\n",
    "\t\t<tr>\n",
    "\t\t\t<td style=\"text-align:left\">ceil(x)</td>\n",
    "\t\t\t<td style=\"text-align:left\">Returns the smallest integer greater than or equal to x.</td>\n",
    "\t\t</tr>\n",
    "\t\t<tr>\n",
    "\t\t\t<td style=\"text-align:left\">copysign(x, y)</td>\n",
    "\t\t\t<td style=\"text-align:left\">Returns x with the sign of y</td>\n",
    "\t\t</tr>\n",
    "\t\t<tr>\n",
    "\t\t\t<td style=\"text-align:left\">fabs(x)</td>\n",
    "\t\t\t<td style=\"text-align:left\">Returns the absolute value of x</td>\n",
    "\t\t</tr>\n",
    "\t\t<tr>\n",
    "\t\t\t<td style=\"text-align:left\">factorial(x)</td>\n",
    "\t\t\t<td style=\"text-align:left\">Returns the factorial of x</td>\n",
    "\t\t</tr>\n",
    "\t\t<tr>\n",
    "\t\t\t<td style=\"text-align:left\">floor(x)</td>\n",
    "\t\t\t<td style=\"text-align:left\">Returns the largest integer less than or equal to x</td>\n",
    "\t\t</tr>\n",
    "\t\t<tr>\n",
    "\t\t\t<td style=\"text-align:left\">fmod(x, y)</td>\n",
    "\t\t\t<td style=\"text-align:left\">Returns the remainder when x is divided by y</td>\n",
    "\t\t</tr>\n",
    "\t\t<tr>\n",
    "\t\t\t<td style=\"text-align:left\">isinf(x)</td>\n",
    "\t\t\t<td style=\"text-align:left\">Returns True if x is a positive or negative infinity</td>\n",
    "\t\t</tr>\n",
    "\t\t<tr>\n",
    "\t\t\t<td style=\"text-align:left\">modf(x)</td>\n",
    "\t\t\t<td style=\"text-align:left\">Returns the fractional and integer parts of x</td>\n",
    "\t\t</tr>\n",
    "\t\t<tr>\n",
    "\t\t\t<td style=\"text-align:left\">trunc(x)</td>\n",
    "\t\t\t<td style=\"text-align:left\">Returns the truncated integer value of x</td>\n",
    "\t\t</tr>\n",
    "\t\t<tr>\n",
    "\t\t\t<td style=\"text-align:left\">exp(x)</td>\n",
    "\t\t\t<td style=\"text-align:left\">Returns e**x</td>\n",
    "\t\t</tr>\n",
    "\t\t<tr>\n",
    "\t\t\t<td style=\"text-align:left\">log(x[, base])</td>\n",
    "\t\t\t<td style=\"text-align:left\">Returns the logarithm of x to the base (defaults to e)</td>\n",
    "\t\t</tr>\n",
    "\t\t<tr>\n",
    "\t\t\t<td style=\"text-align:left\">log2(x)</td>\n",
    "\t\t\t<td style=\"text-align:left\">Returns the base-2 logarithm of x</td>\n",
    "\t\t</tr>\n",
    "\t\t<tr>\n",
    "\t\t\t<td style=\"text-align:left\">log10(x)</td>\n",
    "\t\t\t<td style=\"text-align:left\">Returns the base-10 logarithm of x</td>\n",
    "\t\t</tr>\n",
    "\t\t<tr>\n",
    "\t\t\t<td style=\"text-align:left\">pow(x, y)</td>\n",
    "\t\t\t<td style=\"text-align:left\">Returns x raised to the power y</td>\n",
    "\t\t</tr>\n",
    "\t\t<tr>\n",
    "\t\t\t<td style=\"text-align:left\">sqrt(x)</td>\n",
    "\t\t\t<td style=\"text-align:left\">Returns the square root of x</td>\n",
    "\t\t</tr>\n",
    "\t\t<tr>\n",
    "\t\t\t<td style=\"text-align:left\">acos(x)</td>\n",
    "\t\t\t<td style=\"text-align:left\">Returns the arc cosine of x</td>\n",
    "\t\t</tr>\n",
    "\t\t<tr>\n",
    "\t\t\t<td style=\"text-align:left\">asin(x)</td>\n",
    "\t\t\t<td style=\"text-align:left\">Returns the arc sine of x</td>\n",
    "\t\t</tr>\n",
    "\t\t<tr>\n",
    "\t\t\t<td style=\"text-align:left\">atan(x)</td>\n",
    "\t\t\t<td style=\"text-align:left\">Returns the arc tangent of x</td>\n",
    "\t\t</tr>\n",
    "\t\t<tr>\n",
    "\t\t\t<td style=\"text-align:left\">atan2(y, x)</td>\n",
    "\t\t\t<td style=\"text-align:left\">Returns atan(y / x)</td>\n",
    "\t\t</tr>\n",
    "\t\t<tr>\n",
    "\t\t\t<td style=\"text-align:left\">cos(x)</td>\n",
    "\t\t\t<td style=\"text-align:left\">Returns the cosine of x</td>\n",
    "\t\t</tr>\n",
    "\t\t<tr>\n",
    "\t\t\t<td style=\"text-align:left\">sin(x)</td>\n",
    "\t\t\t<td style=\"text-align:left\">Returns the sine of x</td>\n",
    "\t\t</tr>\n",
    "\t\t<tr>\n",
    "\t\t\t<td style=\"text-align:left\">tan(x)</td>\n",
    "\t\t\t<td style=\"text-align:left\">Returns the tangent of x</td>\n",
    "\t\t</tr>\n",
    "\t\t<tr>\n",
    "\t\t\t<td style=\"text-align:left\">degrees(x)</td>\n",
    "\t\t\t<td style=\"text-align:left\">Converts angle x from radians to degrees</td>\n",
    "\t\t</tr>\n",
    "\t\t<tr>\n",
    "\t\t\t<td style=\"text-align:left\">radians(x)</td>\n",
    "\t\t\t<td style=\"text-align:left\">Converts angle x from degrees to radians</td>\n",
    "\t\t</tr>\n",
    "\t\t<tr>\n",
    "\t\t\t<td style=\"text-align:left\">acosh(x)</td>\n",
    "\t\t\t<td style=\"text-align:left\">Returns the inverse hyperbolic cosine of x</td>\n",
    "\t\t</tr>\n",
    "\t\t<tr>\n",
    "\t\t\t<td style=\"text-align:left\">asinh(x)</td>\n",
    "\t\t\t<td style=\"text-align:left\">Returns the inverse hyperbolic sine of x</td>\n",
    "\t\t</tr>\n",
    "\t\t<tr>\n",
    "\t\t\t<td style=\"text-align:left\">atanh(x)</td>\n",
    "\t\t\t<td style=\"text-align:left\">Returns the inverse hyperbolic tangent of x</td>\n",
    "\t\t</tr>\n",
    "\t\t<tr>\n",
    "\t\t\t<td style=\"text-align:left\">cosh(x)</td>\n",
    "\t\t\t<td style=\"text-align:left\">Returns the hyperbolic cosine of x</td>\n",
    "\t\t</tr>\n",
    "\t\t<tr>\n",
    "\t\t\t<td style=\"text-align:left\">sinh(x)</td>\n",
    "\t\t\t<td style=\"text-align:left\">Returns the hyperbolic cosine of x</td>\n",
    "\t\t</tr>\n",
    "\t\t<tr>\n",
    "\t\t\t<td style=\"text-align:left\">tanh(x)</td>\n",
    "\t\t\t<td style=\"text-align:left\">Returns the hyperbolic tangent of x</td>\n",
    "\t\t</tr>\n",
    "\t\t<tr>\n",
    "\t\t\t<td style=\"text-align:left\">erf(x)</td>\n",
    "\t\t\t<td style=\"text-align:left\">Returns the error function at x</td>\n",
    "\t\t</tr>\n",
    "\t\t<tr>\n",
    "\t\t\t<td style=\"text-align:left\">erfc(x)</td>\n",
    "\t\t\t<td style=\"text-align:left\">Returns the complementary error function at x</td>\n",
    "\t\t</tr>\n",
    "\t\t<tr>\n",
    "\t\t\t<td style=\"text-align:left\">gamma(x)</td>\n",
    "\t\t\t<td style=\"text-align:left\">Returns the Gamma function at x</td>\n",
    "\t\t</tr>\n",
    "\t\t<tr>\n",
    "\t\t\t<td style=\"text-align:left\">lgamma(x)</td>\n",
    "\t\t\t<td style=\"text-align:left\">Returns the natural logarithm of the absolute value of the Gamma function at x</td>\n",
    "\t\t</tr>\n",
    "\t\t<tr>\n",
    "\t\t\t<td style=\"text-align:left\">pi</td>\n",
    "\t\t\t<td style=\"text-align:left\">Mathematical constant, the ratio of circumference of a circle to it&#39;s diameter (3.14159...)</td>\n",
    "\t\t</tr>\n",
    "\t\t<tr>\n",
    "\t\t\t<td style=\"text-align:left\">e</td>\n",
    "\t\t\t<td style=\"text-align:left\">mathematical constant e (2.71828...)</td>\n",
    "\t\t</tr>\n",
    "\t</tbody>\n",
    "</table>"
   ]
  },
  {
   "cell_type": "code",
   "execution_count": 51,
   "metadata": {},
   "outputs": [
    {
     "name": "stdout",
     "output_type": "stream",
     "text": [
      "2\n",
      "1\n",
      "(0.25, 1.0)\n",
      "5040\n",
      "11.0\n",
      "15.154262241479262\n",
      "153.93804002589985\n",
      "1\n",
      "2\n",
      "1.3228756555322954\n"
     ]
    }
   ],
   "source": [
    "# Most of these functions are in the math module.\n",
    "# we need to import that moduel in order to use them.\n",
    "import math\n",
    "x = 2048\n",
    "y = 7\n",
    "z = 1.25\n",
    "w = 1.75\n",
    "\n",
    "print(math.ceil(z))\n",
    "print(math.floor(z))\n",
    "print(math.modf(z))\n",
    "print(math.factorial(y))\n",
    "print(math.log2(x))\n",
    "print(math.exp(math.e)) # e^e\n",
    "print(math.pi*math.pow(7,2)) # pi * 7^2\n",
    "print(round(z))\n",
    "print(round(w))\n",
    "print(math.sqrt(w))"
   ]
  },
  {
   "cell_type": "markdown",
   "metadata": {},
   "source": [
    "- __Strings__"
   ]
  },
  {
   "cell_type": "markdown",
   "metadata": {},
   "source": [
    "Strings are the data type representing a sequence of characters. Almost every programming language has its way of manipulating strings and python is not an exception.\n",
    "\n",
    "As we have with numeric data types, strings have their own functions and methods."
   ]
  },
  {
   "cell_type": "markdown",
   "metadata": {},
   "source": [
    "https://developers.google.com/edu/python/strings"
   ]
  },
  {
   "cell_type": "markdown",
   "metadata": {},
   "source": [
    "## Python Operators"
   ]
  },
  {
   "cell_type": "markdown",
   "metadata": {},
   "source": [
    "https://www.tutorialspoint.com/python/python_basic_operators.htm\n"
   ]
  },
  {
   "cell_type": "markdown",
   "metadata": {},
   "source": [
    "## Python Lists and Dicts"
   ]
  },
  {
   "cell_type": "markdown",
   "metadata": {},
   "source": [
    "https://developers.google.com/edu/python/lists"
   ]
  },
  {
   "cell_type": "markdown",
   "metadata": {},
   "source": [
    "https://developers.google.com/edu/python/dict-files"
   ]
  },
  {
   "cell_type": "markdown",
   "metadata": {},
   "source": [
    "## Python Control flow"
   ]
  },
  {
   "cell_type": "markdown",
   "metadata": {},
   "source": [
    "If statement."
   ]
  },
  {
   "cell_type": "markdown",
   "metadata": {},
   "source": [
    "## Python Branching"
   ]
  },
  {
   "cell_type": "markdown",
   "metadata": {},
   "source": [
    "http://www.pythonforbeginners.com/control-flow-2/python-for-and-while-loops"
   ]
  },
  {
   "cell_type": "markdown",
   "metadata": {},
   "source": [
    "## Resources"
   ]
  },
  {
   "cell_type": "markdown",
   "metadata": {},
   "source": [
    "- [George Boole](https://en.wikipedia.org/wiki/George_Boole),\n",
    "Link: https://en.wikipedia.org/wiki/George_Boole\n",
    "\n",
    "- [Python official documentation](https://docs.python.org/2/library/stdtypes.html), Link: https://docs.python.org/2/library/stdtypes.html\n",
    "\n",
    "- [Mathematical operations on Numeric Types](https://www.tutorialspoint.com/python3/python_numbers.htm), Link: https://www.tutorialspoint.com/python3/python_numbers.htm\n",
    "\n",
    "- [Python Mathematical functions](https://www.programiz.com/python-programming/modules/math), Link:https://www.programiz.com/python-programming/modules/math"
   ]
  },
  {
   "cell_type": "code",
   "execution_count": null,
   "metadata": {},
   "outputs": [],
   "source": []
  }
 ],
 "metadata": {
  "kernelspec": {
   "display_name": "Python 3",
   "language": "python",
   "name": "python3"
  },
  "language_info": {
   "codemirror_mode": {
    "name": "ipython",
    "version": 3
   },
   "file_extension": ".py",
   "mimetype": "text/x-python",
   "name": "python",
   "nbconvert_exporter": "python",
   "pygments_lexer": "ipython3",
   "version": "3.6.4"
  },
  "toc": {
   "nav_menu": {},
   "number_sections": true,
   "sideBar": true,
   "skip_h1_title": false,
   "title_cell": "Table of Contents",
   "title_sidebar": "Contents",
   "toc_cell": false,
   "toc_position": {
    "height": "calc(100% - 180px)",
    "left": "10px",
    "top": "150px",
    "width": "165px"
   },
   "toc_section_display": true,
   "toc_window_display": false
  }
 },
 "nbformat": 4,
 "nbformat_minor": 2
}
