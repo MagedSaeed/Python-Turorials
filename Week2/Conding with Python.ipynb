{
 "cells": [
  {
   "cell_type": "markdown",
   "metadata": {},
   "source": [
    "## Python primitive data types"
   ]
  },
  {
   "cell_type": "markdown",
   "metadata": {},
   "source": [
    "Python provides multiple variables types to hold data within. The type of the variable is determined by the assignment operation. The programmer needs not to explicitly declare the variable type. The following is a list of data types."
   ]
  },
  {
   "cell_type": "markdown",
   "metadata": {},
   "source": [
    "### __Boolean Data Type__\n",
    "\n",
    "Variables of this types has only two values, either `True` or `False`. This type of variables is very useful when we need to determine the control flow of the program depending on a truth value of some thing. The name boolean comes after George Boole, a great English mathematician who works on converting logic to mathematical operations. One branches of math is named after him, Boolean Algebra."
   ]
  },
  {
   "cell_type": "markdown",
   "metadata": {},
   "source": [
    "### __Numeric Types__\n",
    "\n",
    "This category holds five data types, `int` for integers, `float` for decimal value numbers, and, interestingly, `complex` for complex numbers.\n",
    "\n",
    "The following code gives example of variables of each data type:"
   ]
  },
  {
   "cell_type": "code",
   "execution_count": 13,
   "metadata": {
    "scrolled": true
   },
   "outputs": [
    {
     "name": "stdout",
     "output_type": "stream",
     "text": [
      "5\n",
      "-5.5\n",
      "(5+4j)\n"
     ]
    }
   ],
   "source": [
    "int_variable = int(5) # you can write: intVariable = 5\n",
    "float_variable = float(-5.5) # you can write: floatVariable = 5.5\n",
    "complex_variable = complex(5,4)\n",
    "\n",
    "print(int_variable)\n",
    "print(float_variable)\n",
    "print(complex_variable)"
   ]
  },
  {
   "cell_type": "markdown",
   "metadata": {},
   "source": [
    "You can convert between these data types as well. However, keep in mind that converting from float values to integer values will truncate the decimal part of the number."
   ]
  },
  {
   "cell_type": "code",
   "execution_count": 14,
   "metadata": {},
   "outputs": [
    {
     "name": "stdout",
     "output_type": "stream",
     "text": [
      "5.0\n",
      "-5\n",
      "(5-5.5j)\n"
     ]
    }
   ],
   "source": [
    "to_float = float(int_variable)\n",
    "print(to_float)\n",
    "to_int = int(float_variable)\n",
    "print(to_int)\n",
    "to_complex = complex(int_variable, float_variable)\n",
    "print(to_complex)"
   ]
  },
  {
   "cell_type": "markdown",
   "metadata": {},
   "source": [
    "There are plenty of mathematical operations you can do on numbers. The following are just examples. __The table is taken from: https://www.programiz.com/python-programming/modules/math__. _Some functions in the original table are not in this table. Go there for more functions_"
   ]
  },
  {
   "cell_type": "markdown",
   "metadata": {},
   "source": [
    "<table border=\"1\">\n",
    "\t<caption>List of Functions in Python Math Module</caption>\n",
    "\t<tbody>\n",
    "\t\t<tr>\n",
    "\t\t\t<th style=\"text-align:left\">Function</th>\n",
    "\t\t\t<th style=\"text-align:left\">Description</th>\n",
    "\t\t</tr>\n",
    "\t\t<tr>\n",
    "\t\t\t<td style=\"text-align:left\">ceil(x)</td>\n",
    "\t\t\t<td style=\"text-align:left\">Returns the smallest integer greater than or equal to x.</td>\n",
    "\t\t</tr>\n",
    "\t\t<tr>\n",
    "\t\t\t<td style=\"text-align:left\">copysign(x, y)</td>\n",
    "\t\t\t<td style=\"text-align:left\">Returns x with the sign of y</td>\n",
    "\t\t</tr>\n",
    "\t\t<tr>\n",
    "\t\t\t<td style=\"text-align:left\">fabs(x)</td>\n",
    "\t\t\t<td style=\"text-align:left\">Returns the absolute value of x</td>\n",
    "\t\t</tr>\n",
    "\t\t<tr>\n",
    "\t\t\t<td style=\"text-align:left\">factorial(x)</td>\n",
    "\t\t\t<td style=\"text-align:left\">Returns the factorial of x</td>\n",
    "\t\t</tr>\n",
    "\t\t<tr>\n",
    "\t\t\t<td style=\"text-align:left\">floor(x)</td>\n",
    "\t\t\t<td style=\"text-align:left\">Returns the largest integer less than or equal to x</td>\n",
    "\t\t</tr>\n",
    "\t\t<tr>\n",
    "\t\t\t<td style=\"text-align:left\">fmod(x, y)</td>\n",
    "\t\t\t<td style=\"text-align:left\">Returns the remainder when x is divided by y</td>\n",
    "\t\t</tr>\n",
    "\t\t<tr>\n",
    "\t\t\t<td style=\"text-align:left\">isinf(x)</td>\n",
    "\t\t\t<td style=\"text-align:left\">Returns True if x is a positive or negative infinity</td>\n",
    "\t\t</tr>\n",
    "\t\t<tr>\n",
    "\t\t\t<td style=\"text-align:left\">modf(x)</td>\n",
    "\t\t\t<td style=\"text-align:left\">Returns the fractional and integer parts of x</td>\n",
    "\t\t</tr>\n",
    "\t\t<tr>\n",
    "\t\t\t<td style=\"text-align:left\">trunc(x)</td>\n",
    "\t\t\t<td style=\"text-align:left\">Returns the truncated integer value of x</td>\n",
    "\t\t</tr>\n",
    "\t\t<tr>\n",
    "\t\t\t<td style=\"text-align:left\">exp(x)</td>\n",
    "\t\t\t<td style=\"text-align:left\">Returns e**x</td>\n",
    "\t\t</tr>\n",
    "\t\t<tr>\n",
    "\t\t\t<td style=\"text-align:left\">log(x[, base])</td>\n",
    "\t\t\t<td style=\"text-align:left\">Returns the logarithm of x to the base (defaults to e)</td>\n",
    "\t\t</tr>\n",
    "\t\t<tr>\n",
    "\t\t\t<td style=\"text-align:left\">log2(x)</td>\n",
    "\t\t\t<td style=\"text-align:left\">Returns the base-2 logarithm of x</td>\n",
    "\t\t</tr>\n",
    "\t\t<tr>\n",
    "\t\t\t<td style=\"text-align:left\">log10(x)</td>\n",
    "\t\t\t<td style=\"text-align:left\">Returns the base-10 logarithm of x</td>\n",
    "\t\t</tr>\n",
    "\t\t<tr>\n",
    "\t\t\t<td style=\"text-align:left\">pow(x, y)</td>\n",
    "\t\t\t<td style=\"text-align:left\">Returns x raised to the power y</td>\n",
    "\t\t</tr>\n",
    "\t\t<tr>\n",
    "\t\t\t<td style=\"text-align:left\">sqrt(x)</td>\n",
    "\t\t\t<td style=\"text-align:left\">Returns the square root of x</td>\n",
    "\t\t</tr>\n",
    "\t\t<tr>\n",
    "\t\t\t<td style=\"text-align:left\">acos(x)</td>\n",
    "\t\t\t<td style=\"text-align:left\">Returns the arc cosine of x</td>\n",
    "\t\t</tr>\n",
    "\t\t<tr>\n",
    "\t\t\t<td style=\"text-align:left\">asin(x)</td>\n",
    "\t\t\t<td style=\"text-align:left\">Returns the arc sine of x</td>\n",
    "\t\t</tr>\n",
    "\t\t<tr>\n",
    "\t\t\t<td style=\"text-align:left\">atan(x)</td>\n",
    "\t\t\t<td style=\"text-align:left\">Returns the arc tangent of x</td>\n",
    "\t\t</tr>\n",
    "\t\t<tr>\n",
    "\t\t\t<td style=\"text-align:left\">atan2(y, x)</td>\n",
    "\t\t\t<td style=\"text-align:left\">Returns atan(y / x)</td>\n",
    "\t\t</tr>\n",
    "\t\t<tr>\n",
    "\t\t\t<td style=\"text-align:left\">cos(x)</td>\n",
    "\t\t\t<td style=\"text-align:left\">Returns the cosine of x</td>\n",
    "\t\t</tr>\n",
    "\t\t<tr>\n",
    "\t\t\t<td style=\"text-align:left\">sin(x)</td>\n",
    "\t\t\t<td style=\"text-align:left\">Returns the sine of x</td>\n",
    "\t\t</tr>\n",
    "\t\t<tr>\n",
    "\t\t\t<td style=\"text-align:left\">tan(x)</td>\n",
    "\t\t\t<td style=\"text-align:left\">Returns the tangent of x</td>\n",
    "\t\t</tr>\n",
    "\t\t<tr>\n",
    "\t\t\t<td style=\"text-align:left\">degrees(x)</td>\n",
    "\t\t\t<td style=\"text-align:left\">Converts angle x from radians to degrees</td>\n",
    "\t\t</tr>\n",
    "\t\t<tr>\n",
    "\t\t\t<td style=\"text-align:left\">radians(x)</td>\n",
    "\t\t\t<td style=\"text-align:left\">Converts angle x from degrees to radians</td>\n",
    "\t\t</tr>\n",
    "\t\t<tr>\n",
    "\t\t\t<td style=\"text-align:left\">acosh(x)</td>\n",
    "\t\t\t<td style=\"text-align:left\">Returns the inverse hyperbolic cosine of x</td>\n",
    "\t\t</tr>\n",
    "\t\t<tr>\n",
    "\t\t\t<td style=\"text-align:left\">asinh(x)</td>\n",
    "\t\t\t<td style=\"text-align:left\">Returns the inverse hyperbolic sine of x</td>\n",
    "\t\t</tr>\n",
    "\t\t<tr>\n",
    "\t\t\t<td style=\"text-align:left\">atanh(x)</td>\n",
    "\t\t\t<td style=\"text-align:left\">Returns the inverse hyperbolic tangent of x</td>\n",
    "\t\t</tr>\n",
    "\t\t<tr>\n",
    "\t\t\t<td style=\"text-align:left\">cosh(x)</td>\n",
    "\t\t\t<td style=\"text-align:left\">Returns the hyperbolic cosine of x</td>\n",
    "\t\t</tr>\n",
    "\t\t<tr>\n",
    "\t\t\t<td style=\"text-align:left\">sinh(x)</td>\n",
    "\t\t\t<td style=\"text-align:left\">Returns the hyperbolic cosine of x</td>\n",
    "\t\t</tr>\n",
    "\t\t<tr>\n",
    "\t\t\t<td style=\"text-align:left\">tanh(x)</td>\n",
    "\t\t\t<td style=\"text-align:left\">Returns the hyperbolic tangent of x</td>\n",
    "\t\t</tr>\n",
    "\t\t<tr>\n",
    "\t\t\t<td style=\"text-align:left\">erf(x)</td>\n",
    "\t\t\t<td style=\"text-align:left\">Returns the error function at x</td>\n",
    "\t\t</tr>\n",
    "\t\t<tr>\n",
    "\t\t\t<td style=\"text-align:left\">erfc(x)</td>\n",
    "\t\t\t<td style=\"text-align:left\">Returns the complementary error function at x</td>\n",
    "\t\t</tr>\n",
    "\t\t<tr>\n",
    "\t\t\t<td style=\"text-align:left\">gamma(x)</td>\n",
    "\t\t\t<td style=\"text-align:left\">Returns the Gamma function at x</td>\n",
    "\t\t</tr>\n",
    "\t\t<tr>\n",
    "\t\t\t<td style=\"text-align:left\">lgamma(x)</td>\n",
    "\t\t\t<td style=\"text-align:left\">Returns the natural logarithm of the absolute value of the Gamma function at x</td>\n",
    "\t\t</tr>\n",
    "\t\t<tr>\n",
    "\t\t\t<td style=\"text-align:left\">pi</td>\n",
    "\t\t\t<td style=\"text-align:left\">Mathematical constant, the ratio of circumference of a circle to it&#39;s diameter (3.14159...)</td>\n",
    "\t\t</tr>\n",
    "\t\t<tr>\n",
    "\t\t\t<td style=\"text-align:left\">e</td>\n",
    "\t\t\t<td style=\"text-align:left\">mathematical constant e (2.71828...)</td>\n",
    "\t\t</tr>\n",
    "\t</tbody>\n",
    "</table>"
   ]
  },
  {
   "cell_type": "code",
   "execution_count": 15,
   "metadata": {},
   "outputs": [
    {
     "name": "stdout",
     "output_type": "stream",
     "text": [
      "2\n",
      "1\n",
      "(0.25, 1.0)\n",
      "5040\n",
      "11.0\n",
      "15.154262241479262\n",
      "153.93804002589985\n",
      "1\n",
      "2\n",
      "1.3228756555322954\n"
     ]
    }
   ],
   "source": [
    "# Most of these functions are in the math module.\n",
    "# we need to import that moduel in order to use them.\n",
    "import math\n",
    "x = 2048\n",
    "y = 7\n",
    "z = 1.25\n",
    "w = 1.75\n",
    "\n",
    "print(math.ceil(z))\n",
    "print(math.floor(z))\n",
    "print(math.modf(z))\n",
    "print(math.factorial(y))\n",
    "print(math.log2(x))\n",
    "print(math.exp(math.e)) # e^e\n",
    "print(math.pi*math.pow(7,2)) # pi * 7^2\n",
    "print(round(z))\n",
    "print(round(w))\n",
    "print(math.sqrt(w))"
   ]
  },
  {
   "cell_type": "markdown",
   "metadata": {},
   "source": [
    "### __Strings__"
   ]
  },
  {
   "cell_type": "markdown",
   "metadata": {},
   "source": [
    "Strings are the data type representing a sequence of characters. Almost every programming language has its way of manipulating strings and python is not an exception.\n",
    "\n",
    "As we have with numeric data types, strings have their own functions and methods. In this section, we will try to delve a little bit on string functions and methods."
   ]
  },
  {
   "cell_type": "code",
   "execution_count": 20,
   "metadata": {},
   "outputs": [
    {
     "name": "stdout",
     "output_type": "stream",
     "text": [
      "I am a string\n",
      "I am another string!\n"
     ]
    }
   ],
   "source": [
    "# Strings can be defined double quoted as follows:\n",
    "a = \"I am a string\"\n",
    "# or single quoted as follows:\n",
    "b = 'I am another string!'\n",
    "print(a)\n",
    "print(b)"
   ]
  },
  {
   "cell_type": "markdown",
   "metadata": {},
   "source": [
    "#### String functions and properties"
   ]
  },
  {
   "cell_type": "markdown",
   "metadata": {},
   "source": [
    "- **Strings can be compared**"
   ]
  },
  {
   "cell_type": "markdown",
   "metadata": {},
   "source": [
    "By comparing tow strings, the alphabetically greater string will be returned. Look at the following:"
   ]
  },
  {
   "cell_type": "code",
   "execution_count": 16,
   "metadata": {},
   "outputs": [
    {
     "name": "stdout",
     "output_type": "stream",
     "text": [
      "False\n",
      "True\n"
     ]
    }
   ],
   "source": [
    "a = \"a\"\n",
    "b = 'b'\n",
    "print (a>b)\n",
    "\n",
    "a = \"ai\"\n",
    "b = \"ak\"\n",
    "print(a<b)"
   ]
  },
  {
   "cell_type": "markdown",
   "metadata": {},
   "source": [
    "- **Length of the string**\n",
    "```len()``` function will return the number of characters in a given string. This function is very useful!"
   ]
  },
  {
   "cell_type": "code",
   "execution_count": 17,
   "metadata": {},
   "outputs": [
    {
     "name": "stdout",
     "output_type": "stream",
     "text": [
      "15\n"
     ]
    }
   ],
   "source": [
    "a = \"this is string!\" # there are 15 characters!! dont forget to count spaces :)\n",
    "print(len(a))"
   ]
  },
  {
   "cell_type": "markdown",
   "metadata": {},
   "source": [
    "- **String concatenation**"
   ]
  },
  {
   "cell_type": "markdown",
   "metadata": {},
   "source": [
    "We can put two strings together in one string by just using the '+' operator. as follows:"
   ]
  },
  {
   "cell_type": "code",
   "execution_count": 22,
   "metadata": {},
   "outputs": [
    {
     "name": "stdout",
     "output_type": "stream",
     "text": [
      "the resulted string is: This is a string! and this is a second string!\n"
     ]
    }
   ],
   "source": [
    "a = \"This is a string!\"\n",
    "# do not forget to add space in the last of the first concatenated string\n",
    "# or in the first of the second string to so that the resulted string looks nice!\n",
    "b = \" and this is a second string!\"\n",
    "# you can have multiple strings in the print statement!!\n",
    "print(\"the resulted string is:\", a+b)"
   ]
  },
  {
   "cell_type": "markdown",
   "metadata": {},
   "source": [
    "- **Indexing**"
   ]
  },
  {
   "cell_type": "markdown",
   "metadata": {},
   "source": [
    "You can retrieve any character from a string by indexing it in a square brackets [ ]! **Do not forget that the first character in the string is indexed by 0.** _Remember that_ indexing a string with a greater, or lower, number will fire a <u>python error!</u>"
   ]
  },
  {
   "cell_type": "code",
   "execution_count": 27,
   "metadata": {},
   "outputs": [
    {
     "name": "stdout",
     "output_type": "stream",
     "text": [
      "the sixth character of 'a' string is: i\n",
      "the first character of 'a' string is: t\n",
      "The last character of 'a' is: g\n",
      "the middle character of 'a' is:a\n"
     ]
    },
    {
     "ename": "IndexError",
     "evalue": "string index out of range",
     "output_type": "error",
     "traceback": [
      "\u001b[0;31m---------------------------------------------------------------------------\u001b[0m",
      "\u001b[0;31mIndexError\u001b[0m                                Traceback (most recent call last)",
      "\u001b[0;32m<ipython-input-27-6ba032e945d5>\u001b[0m in \u001b[0;36m<module>\u001b[0;34m()\u001b[0m\n\u001b[1;32m     13\u001b[0m \u001b[0;34m\u001b[0m\u001b[0m\n\u001b[1;32m     14\u001b[0m \u001b[0;31m# this code will fire an error:\u001b[0m\u001b[0;34m\u001b[0m\u001b[0;34m\u001b[0m\u001b[0m\n\u001b[0;32m---> 15\u001b[0;31m \u001b[0mprint\u001b[0m\u001b[0;34m(\u001b[0m\u001b[0ma\u001b[0m\u001b[0;34m[\u001b[0m\u001b[0mlen\u001b[0m\u001b[0;34m(\u001b[0m\u001b[0ma\u001b[0m\u001b[0;34m)\u001b[0m\u001b[0;34m]\u001b[0m\u001b[0;34m)\u001b[0m\u001b[0;34m\u001b[0m\u001b[0m\n\u001b[0m",
      "\u001b[0;31mIndexError\u001b[0m: string index out of range"
     ]
    }
   ],
   "source": [
    "# the value of variable a is \"this is string\" from the previous runnable cell.\n",
    "print(\"the sixth character of 'a' string is:\", a[5])\n",
    "print(\"the first character of 'a' string is:\", a[0])\n",
    "\n",
    "# here we will print the last element of the string.\n",
    "# by using len() function, it is not necessary to know the length of the string.\n",
    "# we need to subtract it by one becuase of the first index which is ZERO.\n",
    "print(\"The last character of 'a' is: \"+a[len(a)-1])\n",
    "\n",
    "# We may use floor() function with len() to get the middle element of the string as well\n",
    "# remember that we cannot use float \"real\" numbers to index string. Integers are only allowed.\n",
    "print(\"the middle character of 'a' is:\"+a[math.floor(len(a)/2)])\n",
    "\n",
    "# this code will fire an error:\n",
    "print(a[len(a)])"
   ]
  },
  {
   "cell_type": "markdown",
   "metadata": {},
   "source": [
    "**Interestingly, ** Python allows for negative indexing. What does this mean? It means that we can use negative numbers to retrieve characters from strings. Negative indexes will start from the last. Thus index of -1 means the last character of the string and -2 is the second to last and so on."
   ]
  },
  {
   "cell_type": "code",
   "execution_count": 28,
   "metadata": {},
   "outputs": [
    {
     "name": "stdout",
     "output_type": "stream",
     "text": [
      "the last char is: g\n",
      "the second to last char is: n\n"
     ]
    }
   ],
   "source": [
    "a = \"this is a string\"\n",
    "print(\"the last char is:\", a[-1])\n",
    "print(\"the second to last char is:\", a[-2])"
   ]
  },
  {
   "cell_type": "code",
   "execution_count": null,
   "metadata": {},
   "outputs": [],
   "source": []
  },
  {
   "cell_type": "markdown",
   "metadata": {},
   "source": [
    "The following picture is taken from Google developers website and gives a good description about the indexes. I just copy and paste the image into the following cell."
   ]
  },
  {
   "attachments": {
    "image.png": {
     "image/png": "[encoded data removed]"
    }
   },
   "cell_type": "markdown",
   "metadata": {},
   "source": [
    "![image.png](attachment:image.png)"
   ]
  },
  {
   "cell_type": "markdown",
   "metadata": {},
   "source": [
    "- **String slicing**\n",
    "String slicing is the python method to retrieve a substring of a given string. As a casual indexing, we can use square brackets to slice a string as follows:\n",
    "\n",
    "__str.[start: stop: step]__\n",
    "\n",
    "__start__: the position of the first character to retrieve.\n",
    "\n",
    "__stop__: the position of the last character to retrieve.\n",
    "\n",
    "__step__: how many steps to take."
   ]
  },
  {
   "cell_type": "code",
   "execution_count": 40,
   "metadata": {},
   "outputs": [
    {
     "name": "stdout",
     "output_type": "stream",
     "text": [
      "a is: this is a string\n",
      "starts from the third char to seventh char.\n",
      "is i\n",
      "starts from the second char to seventh char stepping two chars at a time.\n",
      "i \n",
      "the whole 'a' string is: this is a string\n"
     ]
    }
   ],
   "source": [
    "print('a is:',a)\n",
    "\n",
    "print('starts from the third char to seventh char.')\n",
    "print(a[2:6])\n",
    "\n",
    "print('starts from the second char to seventh char stepping two chars at a time.')\n",
    "print(a[2:6:2])\n",
    "\n",
    "#this will return the whole string :)\n",
    "print(\"the whole 'a' string is:\", a[0:len(a)])"
   ]
  },
  {
   "cell_type": "markdown",
   "metadata": {},
   "source": [
    "- **More on slicing**"
   ]
  },
  {
   "cell_type": "markdown",
   "metadata": {},
   "source": [
    "Many things we can do with strings.\n",
    "- we can leave indexes empty so that python can use the default values. (i.e [ : : ]).\n",
    "- defalut value for __start__ is 0.\n",
    "- default value for __stop__ is _len()_.\n",
    "- default value for __step__ is 1.\n",
    "- negative indexes are allowed.\n",
    "- [ : : -1] will flip the defaults to: [-1: -(len()+1):-1]. Simply, it will reverse the string.\n",
    "- If negative numbers are used in the __step__, then __start__ must be greater than stop and the other way around for positive numbers."
   ]
  },
  {
   "cell_type": "code",
   "execution_count": 43,
   "metadata": {},
   "outputs": [
    {
     "name": "stdout",
     "output_type": "stream",
     "text": [
      "this is 'a' string: this is a string\n",
      "this is a string\n",
      "gnirts a si siht\n"
     ]
    }
   ],
   "source": [
    "print(\"this is 'a' string:\", a)\n",
    "\n",
    "# using default values will return the whole string:\n",
    "print(a[::])\n",
    "\n",
    "# reverse the string:\n",
    "print(a[::-1])"
   ]
  },
  {
   "cell_type": "markdown",
   "metadata": {},
   "source": [
    "#### More python string functions."
   ]
  },
  {
   "cell_type": "markdown",
   "metadata": {},
   "source": [
    "This section, will talk about general strings functions. The description of each method is given within the code block in the following coding paragraph."
   ]
  },
  {
   "cell_type": "code",
   "execution_count": 89,
   "metadata": {},
   "outputs": [
    {
     "name": "stdout",
     "output_type": "stream",
     "text": [
      "1: THIS IS A STRING\n",
      "2: this is a string\n",
      "3: False\n",
      "4: True\n",
      "5: False\n",
      "6: True\n",
      "7: False\n",
      "8: True\n",
      "9: 2\n",
      "10: this is a nicer string!!\n"
     ]
    }
   ],
   "source": [
    "a = \"This is a string\"\n",
    "\n",
    "# the following functions are self-descriptive functions.\n",
    "a = a.upper()\n",
    "print(\"1:\",a)\n",
    "\n",
    "a = a.lower()\n",
    "print(\"2:\",a)\n",
    "\n",
    "\n",
    "# the following functions will test the given string according to their namings.\n",
    "\n",
    "#This function test whether a string is all alphabets.\n",
    "#Spaces and !! will cause the function to return False.\n",
    "print(\"3:\",a.isalpha())\n",
    "\n",
    "#By the way, You can define a string on the fly and test it against this function.\n",
    "#Look at this code:\n",
    "print(\"4:\",\"thisstringisallalphabetics\".isalpha())\n",
    "\n",
    "#tests for digits:\n",
    "print(\"5:\",a.isdigit())\n",
    "print(\"6:\",\"123456789\".isdigit())\n",
    "\n",
    "#tests for space:\n",
    "print(\"7:\",a.isspace())\n",
    "print(\"8:\",\"  \".isspace())\n",
    "\n",
    "\n",
    "# this function will search a string for a given substring.\n",
    "# it returns the index of teh first occurance.\n",
    "print(\"9:\",a.find(\"is\"))\n",
    "\n",
    "# this function will replace a given substring with another substring.\n",
    "\n",
    "a = a.replace(\"string\",\"nicer string!!\")\n",
    "print(\"10:\",a)\n",
    "\n",
    "#"
   ]
  },
  {
   "cell_type": "markdown",
   "metadata": {},
   "source": [
    "And by this ends the String section."
   ]
  },
  {
   "cell_type": "markdown",
   "metadata": {},
   "source": [
    "## Python Operators"
   ]
  },
  {
   "cell_type": "markdown",
   "metadata": {},
   "source": [
    "Operators are special characters with specific functionalities. There are different types of operands. The following lists will show many operands of different kinds."
   ]
  },
  {
   "cell_type": "markdown",
   "metadata": {},
   "source": [
    "This page contains many python operators with examples. Better to have a look.\n",
    "https://www.programiz.com/python-programming/operators"
   ]
  },
  {
   "cell_type": "markdown",
   "metadata": {},
   "source": [
    "\n"
   ]
  },
  {
   "cell_type": "code",
   "execution_count": null,
   "metadata": {},
   "outputs": [],
   "source": []
  }
 ],
 "metadata": {
  "kernelspec": {
   "display_name": "Python 3",
   "language": "python",
   "name": "python3"
  },
  "language_info": {
   "codemirror_mode": {
    "name": "ipython",
    "version": 3
   },
   "file_extension": ".py",
   "mimetype": "text/x-python",
   "name": "python",
   "nbconvert_exporter": "python",
   "pygments_lexer": "ipython3",
   "version": "3.6.5"
  },
  "toc": {
   "nav_menu": {},
   "number_sections": true,
   "sideBar": true,
   "skip_h1_title": false,
   "title_cell": "Table of Contents",
   "title_sidebar": "Contents",
   "toc_cell": false,
   "toc_position": {
    "height": "calc(100% - 180px)",
    "left": "10px",
    "top": "150px",
    "width": "165px"
   },
   "toc_section_display": true,
   "toc_window_display": false
  }
 },
 "nbformat": 4,
 "nbformat_minor": 2
}
